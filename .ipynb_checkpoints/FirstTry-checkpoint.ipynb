{
 "cells": [
  {
   "cell_type": "markdown",
   "metadata": {},
   "source": [
    " # Надо:\n",
    "* Считать данные из текстового файла\n",
    "* Переделать в numpy array(2 размерности)\n",
    "* **ОБЯЗАТЕЛЬНО** нагенерить данных для обучения\n",
    "* Разбить на выборки\n",
    "* Обучить модель\n",
    "* Перевести предсказания в пары"
   ]
  },
  {
   "cell_type": "code",
   "execution_count": 2,
   "metadata": {
    "collapsed": true
   },
   "outputs": [],
   "source": [
    "import numpy as np\n",
    "import pandas as ps"
   ]
  },
  {
   "cell_type": "code",
   "execution_count": 3,
   "metadata": {},
   "outputs": [
    {
     "data": {
      "text/plain": [
       "' Данные о пользователе: [id, nickname, room_number, direction, (sports...)]\\n                           [0,  kllllevo, 13,           1,         0,1,0,0]\\n'"
      ]
     },
     "execution_count": 3,
     "metadata": {},
     "output_type": "execute_result"
    }
   ],
   "source": [
    "dt = open('example.txt', 'r')\n",
    "dt = dt.readlines()\n",
    "dat = [] #Будущие данные о пользователях\n",
    "for usr in dt:\n",
    "    dat.append(usr.split(',')) #ВАЖНО! разделитель данных -- ЗАПЯТАЯ\n",
    "\n",
    "''' Данные о пользователе: [id, nickname, room_number, direction, (sports...)]\n",
    "                           [0,  kllllevo, 13,           1,         0,1,0,0]\n",
    "'''"
   ]
  },
  {
   "cell_type": "code",
   "execution_count": 4,
   "metadata": {},
   "outputs": [
    {
     "data": {
      "text/plain": [
       "[['1', 'isus in courtyar', '34', '1', '1', '1', '0\\n'],\n",
       " ['2', 'fubar or_Alah', '12', '3', '0', '1', '1\\n'],\n",
       " ['3', 'elevenponies', '12', '2', '1', '0', '1\\n'],\n",
       " ['4', 'environment of home', '10', '2', '1', '1', '0\\n'],\n",
       " ['5', 'furie', '9', '1', '0', '0', '1\\n'],\n",
       " ['6', 'europe+', '34', '3', '0', '0', '0\\n'],\n",
       " ['7', 'round of Earth', '35', '3', '1', '0', '0\\n'],\n",
       " ['8', 'jgeek', '10', '1', '0', '1', '1\\n'],\n",
       " ['9', 'whatisit', '7', '2', '0', '0', '1\\n'],\n",
       " ['10', 'why is this harder then usual project?', '1', '4', '1', '1', '0\\n']]"
      ]
     },
     "execution_count": 4,
     "metadata": {},
     "output_type": "execute_result"
    }
   ],
   "source": [
    "dat"
   ]
  },
  {
   "cell_type": "code",
   "execution_count": 5,
   "metadata": {},
   "outputs": [
    {
     "data": {
      "text/plain": [
       "\" Данные о пользователях: {'id':[Данные о пользователе, кроме id]} \\n\""
      ]
     },
     "execution_count": 5,
     "metadata": {},
     "output_type": "execute_result"
    }
   ],
   "source": [
    "data = {}\n",
    "for usr in dat:\n",
    "    data[usr[0]] = list(usr[1:])\n",
    "\n",
    "''' Данные о пользователях: {'id':[Данные о пользователе, кроме id]} \n",
    "'''"
   ]
  },
  {
   "cell_type": "code",
   "execution_count": 6,
   "metadata": {},
   "outputs": [
    {
     "data": {
      "text/plain": [
       "{'1': ['isus in courtyar', '34', '1', '1', '1', '0\\n'],\n",
       " '10': ['why is this harder then usual project?', '1', '4', '1', '1', '0\\n'],\n",
       " '2': ['fubar or_Alah', '12', '3', '0', '1', '1\\n'],\n",
       " '3': ['elevenponies', '12', '2', '1', '0', '1\\n'],\n",
       " '4': ['environment of home', '10', '2', '1', '1', '0\\n'],\n",
       " '5': ['furie', '9', '1', '0', '0', '1\\n'],\n",
       " '6': ['europe+', '34', '3', '0', '0', '0\\n'],\n",
       " '7': ['round of Earth', '35', '3', '1', '0', '0\\n'],\n",
       " '8': ['jgeek', '10', '1', '0', '1', '1\\n'],\n",
       " '9': ['whatisit', '7', '2', '0', '0', '1\\n']}"
      ]
     },
     "execution_count": 6,
     "metadata": {},
     "output_type": "execute_result"
    }
   ],
   "source": [
    "data"
   ]
  },
  {
   "cell_type": "code",
   "execution_count": 7,
   "metadata": {},
   "outputs": [
    {
     "data": {
      "text/plain": [
       "[['2', '3', '4', '5', '6', '7', '8', '9', '10'],\n",
       " ['1', '3', '4', '5', '6', '7', '8', '9', '10'],\n",
       " ['1', '2', '4', '5', '6', '7', '8', '9', '10'],\n",
       " ['1', '2', '3', '5', '6', '7', '8', '9', '10'],\n",
       " ['1', '2', '3', '4', '6', '7', '8', '9', '10'],\n",
       " ['1', '2', '3', '4', '5', '7', '8', '9', '10'],\n",
       " ['1', '2', '3', '4', '5', '6', '8', '9', '10'],\n",
       " ['1', '2', '3', '4', '5', '6', '7', '9', '10'],\n",
       " ['1', '2', '3', '4', '5', '6', '7', '8', '10'],\n",
       " ['1', '2', '3', '4', '5', '6', '7', '8', '9']]"
      ]
     },
     "execution_count": 7,
     "metadata": {},
     "output_type": "execute_result"
    }
   ],
   "source": [
    "drata = []\n",
    "for i in list(data.keys()):\n",
    "    a = list(data.keys())\n",
    "    a.remove(i)\n",
    "    drata.append([val for val in a])\n",
    "\n",
    "''' Данные вида [another users id] -- this for user with id=0\n",
    "                [another users id] -- for id=1\n",
    "                [another users id] -- for id=2\n",
    "'''\n",
    "drata"
   ]
  },
  {
   "cell_type": "code",
   "execution_count": 8,
   "metadata": {},
   "outputs": [
    {
     "name": "stdout",
     "output_type": "stream",
     "text": [
      "top_ids ['2', '3', '4', '5', '6', '7', '8', '9', '10']\n",
      "with_ids [1, 1, 3, 1, 2, 2, 2, 0, 3]\n",
      "args_by_sort [7 0 1 3 4 5 6 2 8]\n",
      "top_ids ['1', '3', '4', '5', '6', '7', '8', '9', '10']\n",
      "with_ids [1, 2, 1, 2, 2, 1, 3, 2, 1]\n",
      "args_by_sort [0 2 5 8 1 3 4 7 6]\n",
      "top_ids ['1', '2', '4', '5', '6', '7', '8', '9', '10']\n",
      "with_ids [1, 2, 2, 2, 1, 2, 1, 3, 1]\n",
      "args_by_sort [0 4 6 8 1 2 3 5 7]\n",
      "top_ids ['1', '2', '3', '5', '6', '7', '8', '9', '10']\n",
      "with_ids [3, 1, 2, 0, 1, 2, 2, 1, 3]\n",
      "args_by_sort [3 1 4 7 2 5 6 0 8]\n",
      "top_ids ['1', '2', '3', '4', '6', '7', '8', '9', '10']\n",
      "with_ids [1, 2, 2, 0, 2, 1, 3, 3, 0]\n",
      "args_by_sort [3 8 0 5 1 2 4 6 7]\n",
      "top_ids ['1', '2', '3', '4', '5', '7', '8', '9', '10']\n",
      "with_ids [2, 2, 1, 1, 2, 3, 1, 2, 1]\n",
      "args_by_sort [2 3 6 8 0 1 4 7 5]\n",
      "top_ids ['1', '2', '3', '4', '5', '6', '8', '9', '10']\n",
      "with_ids [2, 1, 2, 2, 1, 3, 0, 1, 2]\n",
      "args_by_sort [6 1 4 7 0 2 3 8 5]\n",
      "top_ids ['1', '2', '3', '4', '5', '6', '7', '9', '10']\n",
      "with_ids [2, 3, 1, 2, 3, 1, 0, 2, 1]\n",
      "args_by_sort [6 2 5 8 0 3 7 1 4]\n",
      "top_ids ['1', '2', '3', '4', '5', '6', '7', '8', '10']\n",
      "with_ids [0, 2, 3, 1, 3, 2, 1, 2, 0]\n",
      "args_by_sort [0 8 3 6 1 5 7 2 4]\n",
      "top_ids ['1', '2', '3', '4', '5', '6', '7', '8', '9']\n",
      "with_ids [3, 1, 1, 3, 0, 1, 2, 1, 0]\n",
      "args_by_sort [4 8 1 2 5 7 6 0 3]\n"
     ]
    },
    {
     "data": {
      "text/plain": [
       "'Вот это б*ть, то, ради чего мы все тут собрались. Данная клетка воплощает идею о том,\\nЧтобы составить все возможные пары киллер-жертва, и отсортировать потенциальных жертв по\\nкол-ву совпадений по признакам. Выхлоп -- внизу\\n'"
      ]
     },
     "execution_count": 8,
     "metadata": {},
     "output_type": "execute_result"
    }
   ],
   "source": [
    "final_data = []\n",
    "nmb = 1 # id юзера(см. ниже)\n",
    "for lst in drata:\n",
    "    top_ids= [] #здесь хранятся id\n",
    "    with_ids = [] # тут -- число совпадений\n",
    "    top = []\n",
    "    for u in lst:\n",
    "        u_data = np.array(data[u][1:])# Вся дата того, кого проверяем, кроме nickname\n",
    "        usr_data = np.array(data[str(nmb)][1:])# Вся дата того, ДЛЯ кого проверяем, кроме nickname\n",
    "        with_ids.append(len(np.where(u_data == usr_data)[0]))\n",
    "        top_ids.append(u)\n",
    "    args_by_sort = np.argsort(np.array(with_ids))\n",
    "    print('top_ids',top_ids)\n",
    "    print('with_ids',with_ids)\n",
    "    print('args_by_sort',args_by_sort)\n",
    "    for arg in args_by_sort:\n",
    "        top.append(top_ids[arg])\n",
    "    final_data.append(top)\n",
    "    nmb += 1\n",
    "'''Вот это б*ть, то, ради чего мы все тут собрались. Данная клетка воплощает идею о том,\n",
    "Чтобы составить все возможные пары киллер-жертва, и отсортировать потенциальных жертв по\n",
    "кол-ву совпадений по признакам. Выхлоп -- внизу\n",
    "'''"
   ]
  },
  {
   "cell_type": "code",
   "execution_count": 102,
   "metadata": {},
   "outputs": [
    {
     "data": {
      "text/plain": [
       "[['9', '2', '3', '5', '6', '7', '8', '4', '10'],\n",
       " ['9', '3', '5', '6', '7', '8', '4', '10', '1'],\n",
       " ['9', '2', '5', '6', '7', '8', '4', '10', '1'],\n",
       " ['9', '2', '3', '5', '6', '7', '8', '10', '1'],\n",
       " ['9', '2', '3', '6', '7', '8', '4', '10', '1'],\n",
       " ['9', '2', '3', '5', '7', '8', '4', '10', '1'],\n",
       " ['9', '2', '3', '5', '6', '8', '4', '10', '1'],\n",
       " ['9', '2', '3', '5', '6', '7', '4', '10', '1'],\n",
       " ['2', '3', '5', '6', '7', '8', '4', '10', '1'],\n",
       " ['9', '2', '3', '5', '6', '7', '8', '4', '1']]"
      ]
     },
     "execution_count": 102,
     "metadata": {},
     "output_type": "execute_result"
    }
   ],
   "source": [
    "final_data"
   ]
  }
 ],
 "metadata": {
  "kernelspec": {
   "display_name": "Python 3",
   "language": "python",
   "name": "python3"
  },
  "language_info": {
   "codemirror_mode": {
    "name": "ipython",
    "version": 3
   },
   "file_extension": ".py",
   "mimetype": "text/x-python",
   "name": "python",
   "nbconvert_exporter": "python",
   "pygments_lexer": "ipython3",
   "version": "3.6.1"
  }
 },
 "nbformat": 4,
 "nbformat_minor": 1
}
