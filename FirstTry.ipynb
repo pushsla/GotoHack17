{
 "cells": [
  {
   "cell_type": "markdown",
   "metadata": {},
   "source": [
    " # Надо:\n",
    "* Считать данные из текстового файла\n",
    "* Переделать в numpy array(2 размерности)\n",
    "* **ОБЯЗАТЕЛЬНО** нагенерить данных для обучения\n",
    "* Разбить на выборки\n",
    "* Обучить модель\n",
    "* Перевести предсказания в пары"
   ]
  },
  {
   "cell_type": "code",
   "execution_count": 9,
   "metadata": {
    "collapsed": true
   },
   "outputs": [],
   "source": [
    "import numpy as np\n",
    "import pandas as ps"
   ]
  },
  {
   "cell_type": "code",
   "execution_count": 20,
   "metadata": {},
   "outputs": [],
   "source": [
    "dtt = open('ex.txt', 'r')\n",
    "dt = dtt.readlines()\n",
    "dat = [] #Будущие данные о пользователях\n",
    "for usr in dt:\n",
    "    dat.append(usr.split(',')) #ВАЖНО! разделитель данных -- ЗАПЯТАЯ\n",
    "\n",
    "''' Данные о пользователе: [id, nickname, room_number, direction, (sports...)]\n",
    "                           [0,  kllllevo, 13,           1,         0,1,0,0]\n",
    "'''\n",
    "#dat\n",
    "dtt.close()"
   ]
  },
  {
   "cell_type": "code",
   "execution_count": 21,
   "metadata": {},
   "outputs": [
    {
     "data": {
      "text/plain": [
       "{'\\n': [],\n",
       " '1': ['Екатерина Самохина', '16', '1', '1', '0', '0\\n'],\n",
       " '2': ['Даниил Царьков', '6', '2', '0', '0', '0\\n'],\n",
       " '3': ['Илья Николаев', '6', '2', '0', '0', '0\\n'],\n",
       " '4': ['Григорий Морозов', '14', '4', '1', '0', '0\\n'],\n",
       " '5': ['Автономова Ксения', '22', '3', '0', '0', '0\\n'],\n",
       " '6': ['Пушкарев Святослав', '20', '3', '0', '0', '0\\n']}"
      ]
     },
     "execution_count": 21,
     "metadata": {},
     "output_type": "execute_result"
    }
   ],
   "source": [
    "data = {}\n",
    "for usr in dat:\n",
    "    data[usr[0]] = list(usr[1:])\n",
    "\n",
    "''' Данные о пользователях: {'id':[Данные о пользователе, кроме id]} \n",
    "'''\n",
    "data"
   ]
  },
  {
   "cell_type": "code",
   "execution_count": 22,
   "metadata": {},
   "outputs": [
    {
     "data": {
      "text/plain": [
       "' Данные вида [another users id] -- this for user with id=0\\n                [another users id] -- for id=1\\n                [another users id] -- for id=2\\n'"
      ]
     },
     "execution_count": 22,
     "metadata": {},
     "output_type": "execute_result"
    }
   ],
   "source": [
    "drata = []\n",
    "for i in list(data.keys()):\n",
    "    a = list(data.keys())\n",
    "    a.remove(i)\n",
    "    drata.append([val for val in a])\n",
    "\n",
    "''' Данные вида [another users id] -- this for user with id=0\n",
    "                [another users id] -- for id=1\n",
    "                [another users id] -- for id=2\n",
    "'''\n",
    "#drata"
   ]
  },
  {
   "cell_type": "code",
   "execution_count": 23,
   "metadata": {},
   "outputs": [
    {
     "name": "stderr",
     "output_type": "stream",
     "text": [
      "C:\\ProgramData\\Anaconda3\\lib\\site-packages\\ipykernel_launcher.py:10: FutureWarning: elementwise comparison failed; returning scalar instead, but in the future will perform elementwise comparison\n",
      "  # Remove the CWD from sys.path while we load stuff.\n"
     ]
    },
    {
     "ename": "KeyError",
     "evalue": "'7'",
     "output_type": "error",
     "traceback": [
      "\u001b[1;31m---------------------------------------------------------------------------\u001b[0m",
      "\u001b[1;31mKeyError\u001b[0m                                  Traceback (most recent call last)",
      "\u001b[1;32m<ipython-input-23-fbb3154e49eb>\u001b[0m in \u001b[0;36m<module>\u001b[1;34m()\u001b[0m\n\u001b[0;32m      7\u001b[0m     \u001b[1;32mfor\u001b[0m \u001b[0mu\u001b[0m \u001b[1;32min\u001b[0m \u001b[0mlst\u001b[0m\u001b[1;33m:\u001b[0m\u001b[1;33m\u001b[0m\u001b[0m\n\u001b[0;32m      8\u001b[0m         \u001b[0mu_data\u001b[0m \u001b[1;33m=\u001b[0m \u001b[0mnp\u001b[0m\u001b[1;33m.\u001b[0m\u001b[0marray\u001b[0m\u001b[1;33m(\u001b[0m\u001b[0mdata\u001b[0m\u001b[1;33m[\u001b[0m\u001b[0mu\u001b[0m\u001b[1;33m]\u001b[0m\u001b[1;33m[\u001b[0m\u001b[1;36m1\u001b[0m\u001b[1;33m:\u001b[0m\u001b[1;33m]\u001b[0m\u001b[1;33m)\u001b[0m\u001b[1;31m# Вся дата того, кого проверяем, кроме nickname\u001b[0m\u001b[1;33m\u001b[0m\u001b[0m\n\u001b[1;32m----> 9\u001b[1;33m         \u001b[0musr_data\u001b[0m \u001b[1;33m=\u001b[0m \u001b[0mnp\u001b[0m\u001b[1;33m.\u001b[0m\u001b[0marray\u001b[0m\u001b[1;33m(\u001b[0m\u001b[0mdata\u001b[0m\u001b[1;33m[\u001b[0m\u001b[0mstr\u001b[0m\u001b[1;33m(\u001b[0m\u001b[0mnmb\u001b[0m\u001b[1;33m)\u001b[0m\u001b[1;33m]\u001b[0m\u001b[1;33m[\u001b[0m\u001b[1;36m1\u001b[0m\u001b[1;33m:\u001b[0m\u001b[1;33m]\u001b[0m\u001b[1;33m)\u001b[0m\u001b[1;31m# Вся дата того, ДЛЯ кого проверяем, кроме nickname\u001b[0m\u001b[1;33m\u001b[0m\u001b[0m\n\u001b[0m\u001b[0;32m     10\u001b[0m         \u001b[0mwith_ids\u001b[0m\u001b[1;33m.\u001b[0m\u001b[0mappend\u001b[0m\u001b[1;33m(\u001b[0m\u001b[0mlen\u001b[0m\u001b[1;33m(\u001b[0m\u001b[0mnp\u001b[0m\u001b[1;33m.\u001b[0m\u001b[0mwhere\u001b[0m\u001b[1;33m(\u001b[0m\u001b[0mu_data\u001b[0m \u001b[1;33m==\u001b[0m \u001b[0musr_data\u001b[0m\u001b[1;33m)\u001b[0m\u001b[1;33m[\u001b[0m\u001b[1;36m0\u001b[0m\u001b[1;33m]\u001b[0m\u001b[1;33m)\u001b[0m\u001b[1;33m)\u001b[0m\u001b[1;33m\u001b[0m\u001b[0m\n\u001b[0;32m     11\u001b[0m         \u001b[0mtop_ids\u001b[0m\u001b[1;33m.\u001b[0m\u001b[0mappend\u001b[0m\u001b[1;33m(\u001b[0m\u001b[0mu\u001b[0m\u001b[1;33m)\u001b[0m\u001b[1;33m\u001b[0m\u001b[0m\n",
      "\u001b[1;31mKeyError\u001b[0m: '7'"
     ]
    }
   ],
   "source": [
    "final_data = []\n",
    "nmb = 1 # id юзера(см. ниже)\n",
    "for lst in drata:\n",
    "    top_ids= [] #здесь хранятся id\n",
    "    with_ids = [] # тут -- число совпадений\n",
    "    top = []\n",
    "    for u in lst:\n",
    "        u_data = np.array(data[u][1:])# Вся дата того, кого проверяем, кроме nickname\n",
    "        usr_data = np.array(data[str(nmb)][1:])# Вся дата того, ДЛЯ кого проверяем, кроме nickname\n",
    "        with_ids.append(len(np.where(u_data == usr_data)[0]))\n",
    "        top_ids.append(u)\n",
    "    args_by_sort = np.argsort(np.array(with_ids))\n",
    "    #print('top_ids',top_ids)\n",
    "    #print('with_ids',with_ids)\n",
    "    #print('args_by_sort',args_by_sort)\n",
    "    for arg in args_by_sort:\n",
    "        top.append(top_ids[arg])\n",
    "    final_data.append(top)\n",
    "    nmb += 1\n",
    "'''Вот это б*ть то, ради чего мы все тут собрались. Данная клетка воплощает идею о том,\n",
    "Чтобы составить все возможные пары киллер-жертва, и отсортировать потенциальных жертв по\n",
    "кол-ву совпадений по признакам. Выхлоп -- внизу\n",
    "'''"
   ]
  },
  {
   "cell_type": "code",
   "execution_count": 6,
   "metadata": {},
   "outputs": [
    {
     "data": {
      "text/plain": [
       "[['9', '2', '3', '5', '6', '7', '8', '4', '10'],\n",
       " ['1', '4', '7', '10', '3', '5', '6', '9', '8'],\n",
       " ['1', '6', '8', '10', '2', '4', '5', '7', '9'],\n",
       " ['5', '2', '6', '9', '3', '7', '8', '1', '10'],\n",
       " ['4', '10', '1', '7', '2', '3', '6', '8', '9'],\n",
       " ['3', '4', '8', '10', '1', '2', '5', '9', '7'],\n",
       " ['8', '2', '5', '9', '1', '3', '4', '10', '6'],\n",
       " ['7', '3', '6', '10', '1', '4', '9', '2', '5'],\n",
       " ['1', '10', '4', '7', '2', '6', '8', '3', '5'],\n",
       " ['5', '9', '2', '3', '6', '8', '7', '1', '4']]"
      ]
     },
     "execution_count": 6,
     "metadata": {},
     "output_type": "execute_result"
    }
   ],
   "source": [
    "final_data"
   ]
  },
  {
   "cell_type": "code",
   "execution_count": 7,
   "metadata": {
    "scrolled": true
   },
   "outputs": [
    {
     "data": {
      "text/plain": [
       "[[0, 2, 5, 10, 11, 17, 21, 36, 43],\n",
       " [2, 3, 3, 9, 15, 19, 25, 28, 38],\n",
       " [2, 0, 4, 9, 17, 21, 26, 32, 37],\n",
       " [1, 2, 3, 8, 15, 17, 21, 43, 43],\n",
       " [0, 1, 9, 7, 17, 23, 25, 29, 37],\n",
       " [0, 3, 4, 9, 20, 25, 26, 28, 41],\n",
       " [0, 2, 6, 8, 20, 23, 28, 34, 42],\n",
       " [0, 2, 3, 9, 20, 21, 21, 42, 42],\n",
       " [2, 1, 7, 7, 17, 17, 21, 40, 42],\n",
       " [1, 2, 6, 9, 11, 14, 24, 43, 45]]"
      ]
     },
     "execution_count": 7,
     "metadata": {},
     "output_type": "execute_result"
    }
   ],
   "source": [
    "weighted_data = []\n",
    "nmb = 1\n",
    "for lst in final_data:#Не забыть nmb += 1\n",
    "    weighted = []\n",
    "    cloned_final = list(final_data)\n",
    "    cloned_final.remove(lst)\n",
    "    for u in lst:   \n",
    "        weight = 0\n",
    "        for sub_lst in cloned_final:\n",
    "            for sub_u in sub_lst:\n",
    "                if sub_lst.index(sub_u) <= lst.index(u) and u == sub_u:\n",
    "                    weight += lst.index(u) - sub_lst.index(sub_u) + 1\n",
    "        weighted.append(weight)\n",
    "    weighted_data.append(weighted)\n",
    "''' Данная чудо-ячейка возвращает нам матрицу с \"весами\" id ,где каждому элементу этого массива\n",
    "сопоставляется id из final_data\n",
    "'''\n",
    "weighted_data"
   ]
  },
  {
   "cell_type": "code",
   "execution_count": 8,
   "metadata": {
    "scrolled": true
   },
   "outputs": [
    {
     "name": "stdout",
     "output_type": "stream",
     "text": [
      "[9, 1, 6, 5, 10, 4, 8, 3, 7, 2]\n",
      "Wall time: 1.5 ms\n"
     ]
    }
   ],
   "source": [
    "%%time\n",
    "pair = []\n",
    "for n in range(0, len(final_data)):\n",
    "    ind = np.argmin(weighted_data[n])\n",
    "    cdel = int(final_data[n][ind]) - 1\n",
    "    for j in range(len(final_data[cdel])):\n",
    "        if final_data[cdel][j] == str(n + 1):\n",
    "            del weighted_data[cdel][j]\n",
    "            del final_data[cdel][j]\n",
    "            break\n",
    "    pair.append(cdel + 1)\n",
    "    for i in range(len(final_data)):\n",
    "        if i != n and i != cdel:\n",
    "            for j in range(0, len(final_data[i])):\n",
    "                if final_data[i][j] == str(cdel + 1):\n",
    "                    del final_data[i][j]\n",
    "                    del weighted_data[i][j]\n",
    "                    break\n",
    "print(pair)"
   ]
  },
  {
   "cell_type": "code",
   "execution_count": null,
   "metadata": {
    "collapsed": true
   },
   "outputs": [],
   "source": []
  }
 ],
 "metadata": {
  "kernelspec": {
   "display_name": "Python 3",
   "language": "python",
   "name": "python3"
  },
  "language_info": {
   "codemirror_mode": {
    "name": "ipython",
    "version": 3
   },
   "file_extension": ".py",
   "mimetype": "text/x-python",
   "name": "python",
   "nbconvert_exporter": "python",
   "pygments_lexer": "ipython3",
   "version": "3.6.1"
  }
 },
 "nbformat": 4,
 "nbformat_minor": 2
}
