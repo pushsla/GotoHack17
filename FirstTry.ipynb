{
 "cells": [
  {
   "cell_type": "markdown",
   "metadata": {},
   "source": [
    " # Надо:\n",
    "* Считать данные из текстового файла\n",
    "* Переделать в numpy array(2 размерности)\n",
    "* **ОБЯЗАТЕЛЬНО** нагенерить данных для обучения\n",
    "* Разбить на выборки\n",
    "* Обучить модель\n",
    "* Перевести предсказания в пары"
   ]
  },
  {
   "cell_type": "code",
   "execution_count": 110,
   "metadata": {
    "collapsed": true
   },
   "outputs": [],
   "source": [
    "import numpy as np\n",
    "import pandas as ps"
   ]
  },
  {
   "cell_type": "code",
   "execution_count": 111,
   "metadata": {},
   "outputs": [
    {
     "data": {
      "text/plain": [
       "' Данные о пользователе: [id, nickname, room_number, direction, (sports...)]\\n                           [0,  kllllevo, 13,           1,         0,1,0,0]\\n'"
      ]
     },
     "execution_count": 111,
     "metadata": {},
     "output_type": "execute_result"
    }
   ],
   "source": [
    "dt = open('example.txt', 'r')\n",
    "dt = dt.readlines()\n",
    "dat = [] #Будущие данные о пользователях\n",
    "for usr in dt:\n",
    "    dat.append(usr.split(',')) #ВАЖНО! разделитель данных -- ЗАПЯТАЯ\n",
    "\n",
    "''' Данные о пользователе: [id, nickname, room_number, direction, (sports...)]\n",
    "                           [0,  kllllevo, 13,           1,         0,1,0,0]\n",
    "'''\n",
    "#dat"
   ]
  },
  {
   "cell_type": "code",
   "execution_count": 119,
   "metadata": {},
   "outputs": [
    {
     "data": {
      "text/plain": [
       "{'1': ['isus in courtyar', '34', '1', '1', '1', '0\\n'],\n",
       " '10': ['why is this harder then usual project?', '1', '4', '1', '1', '0\\n'],\n",
       " '2': ['fubar or_Alah', '12', '3', '0', '1', '1\\n'],\n",
       " '3': ['elevenponies', '12', '2', '1', '0', '1\\n'],\n",
       " '4': ['environment of home', '10', '2', '1', '1', '0\\n'],\n",
       " '5': ['furie', '9', '1', '0', '0', '1\\n'],\n",
       " '6': ['europe+', '34', '3', '0', '0', '0\\n'],\n",
       " '7': ['round of Earth', '35', '3', '1', '0', '0\\n'],\n",
       " '8': ['jgeek', '10', '1', '0', '1', '1\\n'],\n",
       " '9': ['whatisit', '7', '2', '0', '0', '1\\n']}"
      ]
     },
     "execution_count": 119,
     "metadata": {},
     "output_type": "execute_result"
    }
   ],
   "source": [
    "data = {}\n",
    "for usr in dat:\n",
    "    data[usr[0]] = list(usr[1:])\n",
    "\n",
    "''' Данные о пользователях: {'id':[Данные о пользователе, кроме id]} \n",
    "'''\n",
    "data"
   ]
  },
  {
   "cell_type": "code",
   "execution_count": 113,
   "metadata": {},
   "outputs": [
    {
     "data": {
      "text/plain": [
       "' Данные вида [another users id] -- this for user with id=0\\n                [another users id] -- for id=1\\n                [another users id] -- for id=2\\n'"
      ]
     },
     "execution_count": 113,
     "metadata": {},
     "output_type": "execute_result"
    }
   ],
   "source": [
    "drata = []\n",
    "for i in list(data.keys()):\n",
    "    a = list(data.keys())\n",
    "    a.remove(i)\n",
    "    drata.append([val for val in a])\n",
    "\n",
    "''' Данные вида [another users id] -- this for user with id=0\n",
    "                [another users id] -- for id=1\n",
    "                [another users id] -- for id=2\n",
    "'''\n",
    "#drata"
   ]
  },
  {
   "cell_type": "code",
   "execution_count": 135,
   "metadata": {},
   "outputs": [
    {
     "data": {
      "text/plain": [
       "'Вот это б*ть то, ради чего мы все тут собрались. Данная клетка воплощает идею о том,\\nЧтобы составить все возможные пары киллер-жертва, и отсортировать потенциальных жертв по\\nкол-ву совпадений по признакам. Выхлоп -- внизу\\n'"
      ]
     },
     "execution_count": 135,
     "metadata": {},
     "output_type": "execute_result"
    }
   ],
   "source": [
    "final_data = []\n",
    "nmb = 1 # id юзера(см. ниже)\n",
    "for lst in drata:\n",
    "    top_ids= [] #здесь хранятся id\n",
    "    with_ids = [] # тут -- число совпадений\n",
    "    top = []\n",
    "    for u in lst:\n",
    "        u_data = np.array(data[u][1:])# Вся дата того, кого проверяем, кроме nickname\n",
    "        usr_data = np.array(data[str(nmb)][1:])# Вся дата того, ДЛЯ кого проверяем, кроме nickname\n",
    "        with_ids.append(len(np.where(u_data == usr_data)[0]))\n",
    "        top_ids.append(u)\n",
    "    args_by_sort = np.argsort(np.array(with_ids))\n",
    "    #print('top_ids',top_ids)\n",
    "    #print('with_ids',with_ids)\n",
    "    #print('args_by_sort',args_by_sort)\n",
    "    for arg in args_by_sort:\n",
    "        top.append(top_ids[arg])\n",
    "    final_data.append(top)\n",
    "    nmb += 1\n",
    "'''Вот это б*ть то, ради чего мы все тут собрались. Данная клетка воплощает идею о том,\n",
    "Чтобы составить все возможные пары киллер-жертва, и отсортировать потенциальных жертв по\n",
    "кол-ву совпадений по признакам. Выхлоп -- внизу\n",
    "'''"
   ]
  },
  {
   "cell_type": "code",
   "execution_count": 137,
   "metadata": {},
   "outputs": [
    {
     "data": {
      "text/plain": [
       "[['9', '2', '3', '5', '6', '7', '8', '4', '10'],\n",
       " ['1', '4', '7', '10', '3', '5', '6', '9', '8'],\n",
       " ['1', '6', '8', '10', '2', '4', '5', '7', '9'],\n",
       " ['5', '2', '6', '9', '3', '7', '8', '1', '10'],\n",
       " ['4', '10', '1', '7', '2', '3', '6', '8', '9'],\n",
       " ['3', '4', '8', '10', '1', '2', '5', '9', '7'],\n",
       " ['8', '2', '5', '9', '1', '3', '4', '10', '6'],\n",
       " ['7', '3', '6', '10', '1', '4', '9', '2', '5'],\n",
       " ['1', '10', '4', '7', '2', '6', '8', '3', '5'],\n",
       " ['5', '9', '2', '3', '6', '8', '7', '1', '4']]"
      ]
     },
     "execution_count": 137,
     "metadata": {},
     "output_type": "execute_result"
    }
   ],
   "source": [
    "final_data"
   ]
  },
  {
   "cell_type": "code",
   "execution_count": 147,
   "metadata": {},
   "outputs": [
    {
     "data": {
      "text/plain": [
       "[[0, 2, 2, 3, 4, 5, 6, 7, 8],\n",
       " [2, 2, 1, 5, 5, 4, 7, 6, 8],\n",
       " [2, 0, 2, 5, 6, 5, 6, 7, 8],\n",
       " [1, 2, 2, 3, 5, 5, 6, 8, 8],\n",
       " [0, 1, 3, 3, 6, 7, 7, 7, 8],\n",
       " [0, 2, 2, 5, 6, 7, 6, 6, 8],\n",
       " [0, 2, 2, 3, 6, 7, 6, 6, 8],\n",
       " [0, 1, 2, 5, 6, 5, 4, 8, 8],\n",
       " [2, 1, 3, 3, 6, 5, 6, 8, 8],\n",
       " [1, 1, 3, 3, 4, 3, 6, 8, 8]]"
      ]
     },
     "execution_count": 147,
     "metadata": {},
     "output_type": "execute_result"
    }
   ],
   "source": [
    "weighted_data = []\n",
    "nmb = 1\n",
    "for lst in final_data:#Не забыть nmb += 1\n",
    "    weighted = []\n",
    "    cloned_final = list(final_data)\n",
    "    cloned_final.remove(lst)\n",
    "    for u in lst:   \n",
    "        weight = 0\n",
    "        for sub_lst in cloned_final:\n",
    "            for sub_u in sub_lst:\n",
    "                if sub_lst.index(sub_u) <= lst.index(u) and u == sub_u:\n",
    "                    weight += 1\n",
    "        weighted.append(weight)\n",
    "    weighted_data.append(weighted)\n",
    "''' Данная чудо-ячейка возвращает нам матрицу с \"весами\" id ,где каждому элементу этого массива\n",
    "сопоставляется id из final_data\n",
    "'''\n",
    "weighted_data"
   ]
  },
  {
   "cell_type": "code",
   "execution_count": null,
   "metadata": {
    "collapsed": true
   },
   "outputs": [],
   "source": []
  }
 ],
 "metadata": {
  "kernelspec": {
   "display_name": "Python 3",
   "language": "python",
   "name": "python3"
  },
  "language_info": {
   "codemirror_mode": {
    "name": "ipython",
    "version": 3
   },
   "file_extension": ".py",
   "mimetype": "text/x-python",
   "name": "python",
   "nbconvert_exporter": "python",
   "pygments_lexer": "ipython3",
   "version": "3.6.1"
  }
 },
 "nbformat": 4,
 "nbformat_minor": 2
}
