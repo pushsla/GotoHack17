{
 "cells": [
  {
   "cell_type": "markdown",
   "metadata": {},
   "source": [
    " # Надо:\n",
    "* Считать данные из текстового файла\n",
    "* Переделать в numpy array(2 размерности)\n",
    "* **ОБЯЗАТЕЛЬНО** нагенерить данных для обучения\n",
    "* Разбить на выборки\n",
    "* Обучить модель\n",
    "* Перевести предсказания в пары"
   ]
  },
  {
   "cell_type": "code",
   "execution_count": 23,
   "metadata": {
    "collapsed": true
   },
   "outputs": [],
   "source": [
    "import numpy as np\n",
    "import pandas as ps"
   ]
  },
  {
   "cell_type": "code",
   "execution_count": 84,
   "metadata": {},
   "outputs": [],
   "source": [
    "dtt = open('example.txt', 'r')\n",
    "dt = dtt.readlines()\n",
    "dtt.close()\n",
    "dat = [] #Будущие данные о пользователях\n",
    "for usr in dt:\n",
    "    dat.append(usr.split(',')) #ВАЖНО! разделитель данных -- ЗАПЯТАЯ\n",
    "\n",
    "#''' Данные о пользователе: [id, nickname, room_number, direction, (sports...)]\n",
    "#                           [0,  kllllevo, 13,           1,         0,1,0,0]\n",
    "#'''\n",
    "#dat"
   ]
  },
  {
   "cell_type": "code",
   "execution_count": 85,
   "metadata": {},
   "outputs": [],
   "source": [
    "data = {}\n",
    "for usr in dat:\n",
    "    data[usr[0]] = list(usr[1:])\n",
    "\n",
    "#''' Данные о пользователях: {'id':[Данные о пользователе, кроме id]} \n",
    "#'''\n",
    "#data"
   ]
  },
  {
   "cell_type": "code",
   "execution_count": 86,
   "metadata": {},
   "outputs": [],
   "source": [
    "drata = []\n",
    "for i in list(data.keys()):\n",
    "    a = list(data.keys())\n",
    "    a.remove(i)\n",
    "    drata.append([val for val in a])\n",
    "\n",
    "#''' Данные вида [another users id] -- this for user with id=0\n",
    "#                [another users id] -- for id=1\n",
    "#                [another users id] -- for id=2\n",
    "#'''\n",
    "#drata"
   ]
  },
  {
   "cell_type": "code",
   "execution_count": 87,
   "metadata": {},
   "outputs": [],
   "source": [
    "final_data = []\n",
    "nmb = 1 # id юзера(см. ниже)\n",
    "for lst in drata:\n",
    "    top_ids= [] #здесь хранятся id\n",
    "    with_ids = [] # тут -- число совпадений\n",
    "    top = []\n",
    "    for u in lst:\n",
    "        u_data = np.array(data[u][1:])# Вся дата того, кого проверяем, кроме nickname\n",
    "        usr_data = np.array(data[str(nmb)][1:])# Вся дата того, ДЛЯ кого проверяем, кроме nickname\n",
    "        with_ids.append(len(np.where(u_data == usr_data)[0]))\n",
    "        top_ids.append(u)\n",
    "    args_by_sort = np.argsort(np.array(with_ids))\n",
    "    #print('top_ids',top_ids)\n",
    "    #print('with_ids',with_ids)\n",
    "    #print('args_by_sort',args_by_sort)\n",
    "    for arg in args_by_sort:\n",
    "        top.append(top_ids[arg])\n",
    "    final_data.append(top)\n",
    "    nmb += 1\n",
    "#'''Вот это б*ть то, ради чего мы все тут собрались. Данная клетка воплощает идею о том,\n",
    "#Чтобы составить все возможные пары киллер-жертва, и отсортировать потенциальных жертв по\n",
    "#кол-ву совпадений по признакам. Выхлоп -- внизу\n",
    "#'''\n",
    "#print(final_data[0])"
   ]
  },
  {
   "cell_type": "code",
   "execution_count": 88,
   "metadata": {},
   "outputs": [],
   "source": [
    "weighted_data = []\n",
    "for lst in final_data:#Не забыть nmb += 1\n",
    "    weighted = []\n",
    "    cloned_final = list(final_data)\n",
    "    cloned_final.remove(lst)\n",
    "    for u in lst:   \n",
    "        weight = 0\n",
    "        for sub_lst in cloned_final:\n",
    "            for sub_u in sub_lst:\n",
    "                if sub_lst.index(sub_u) <= lst.index(u) and u == sub_u:\n",
    "                    weight += 1 + int(lst.index(u)) - int(sub_lst.index(sub_u))\n",
    "        weighted.append(weight)\n",
    "    weighted_data.append(weighted)\n",
    "#''' Данная чудо-ячейка возвращает нам матрицу с \"весами\" id ,где каждому элементу этого массива\n",
    "#сопоставляется id из final_data\n",
    "#'''\n",
    "#weighted_data"
   ]
  },
  {
   "cell_type": "code",
   "execution_count": 89,
   "metadata": {},
   "outputs": [],
   "source": [
    "pairs = []\n",
    "forbidden = []\n",
    "nmb = 0\n",
    "for killer in weighted_data:\n",
    "    min_index = None\n",
    "    min_d = (len(weighted_data)+1)**(len(weighted_data))\n",
    "    for victim in killer:\n",
    "        if victim <= min_d:\n",
    "            min_d = victim\n",
    "            min_index = killer.index(victim)\n",
    "    pairs.append([str(final_data.index(final_data[nmb])+1), final_data[nmb][min_index]])\n",
    "    forbid_weight = weighted_data[int(final_data[nmb][min_index])-1]# Массив весов для чувака, которого мы выбрали в качестве жертвы\n",
    "    forbid_arr = final_data[int(final_data[nmb][min_index])-1]# Массив пар для чувака, которого мы выбрали в качестве жертвы\n",
    "    forbid_index = forbid_arr.index(str(nmb+1))# Индекс(номер в массиве) чувака, который является киллером вон того ^\n",
    "    forbid_weight[forbid_index] = 100500# Для того, чтобы не было: А убив. Б, а Б убив. А\n",
    "    weighted_data[int(final_data[nmb][min_index])-1] = forbid_weight# заносим изменения в таблицу весов\n",
    "    \n",
    "    victimed = final_data[nmb][min_index] # Все вот это делается для того, чтобы игрок не был жертвой двух киллеров\n",
    "    for killer in final_data:\n",
    "        try:\n",
    "            vic_index = killer.index(victimed)\n",
    "            kil_index = final_data.index(killer)\n",
    "            weighted_data[kil_index][vic_index] = (len(weighted_data)+1)**(len(weighted_data))\n",
    "        except ValueError:\n",
    "            pass\n",
    "    \n",
    "    nmb += 1\n",
    "#print(pairs)\n",
    "#''' А вот здесь, мой дорогой читатель, если ты еще не умер от обилия говнокода, ты можешь видеть\n",
    "#механизм распределения на пары киллер-жертва, ради которого и делался весь вот этот ^^^^^^ говнокод.\n",
    "#Возвращает пары по id\n",
    "#'''\n",
    "#weighted_data"
   ]
  },
  {
   "cell_type": "code",
   "execution_count": 90,
   "metadata": {
    "scrolled": true
   },
   "outputs": [
    {
     "name": "stdout",
     "output_type": "stream",
     "text": [
      "isus in courtyar,whatisit\n",
      "fubar or_Alah,environment of home\n",
      "elevenponies,europe+\n",
      "environment of home,furie\n",
      "furie,why is this harder then usual project?\n",
      "europe+,hell in hell\n",
      "round of Earth,jgeek\n",
      "jgeek,elevenponies\n",
      "whatisit,round of Earth\n",
      "why is this harder then usual project?,heuristics\n",
      "hello,hi worlder scroo\n",
      "hi worlder scroo,isus in courtyar\n",
      "hell in hell,salam aleikum\n",
      "laninja,hello\n",
      "heuristics,fubar or_Alah\n",
      "salam aleikum,laninja\n"
     ]
    }
   ],
   "source": [
    "for i in pairs:\n",
    "    print(data[i[0]][0]+','+data[i[1]][0])"
   ]
  }
 ],
 "metadata": {
  "kernelspec": {
   "display_name": "Python 3",
   "language": "python",
   "name": "python3"
  },
  "language_info": {
   "codemirror_mode": {
    "name": "ipython",
    "version": 3
   },
   "file_extension": ".py",
   "mimetype": "text/x-python",
   "name": "python",
   "nbconvert_exporter": "python",
   "pygments_lexer": "ipython3",
   "version": "3.6.1"
  }
 },
 "nbformat": 4,
 "nbformat_minor": 2
}
