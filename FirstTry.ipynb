{
 "cells": [
  {
   "cell_type": "markdown",
   "metadata": {},
   "source": [
    " # Надо:\n",
    "* Считать данные из текстового файла\n",
    "* Переделать в numpy array(2 размерности)\n",
    "* **ОБЯЗАТЕЛЬНО** нагенерить данных для обучения\n",
    "* Разбить на выборки\n",
    "* Обучить модель\n",
    "* Перевести предсказания в пары"
   ]
  },
  {
   "cell_type": "code",
   "execution_count": 239,
   "metadata": {
    "collapsed": true
   },
   "outputs": [],
   "source": [
    "import numpy as np\n",
    "import pandas as ps"
   ]
  },
  {
   "cell_type": "code",
   "execution_count": 240,
   "metadata": {},
   "outputs": [
    {
     "data": {
      "text/plain": [
       "' Данные о пользователе: [id, nickname, room_number, direction, (sports...)]\\n                           [0,  kllllevo, 13,           1,         0,1,0,0]\\n'"
      ]
     },
     "execution_count": 240,
     "metadata": {},
     "output_type": "execute_result"
    }
   ],
   "source": [
    "dt = open('example.txt', 'r')\n",
    "dt = dt.readlines()\n",
    "dat = [] #Будущие данные о пользователях\n",
    "for usr in dt:\n",
    "    dat.append(usr.split(',')) #ВАЖНО! разделитель данных -- ЗАПЯТАЯ\n",
    "\n",
    "''' Данные о пользователе: [id, nickname, room_number, direction, (sports...)]\n",
    "                           [0,  kllllevo, 13,           1,         0,1,0,0]\n",
    "'''\n",
    "#dat"
   ]
  },
  {
   "cell_type": "code",
   "execution_count": 241,
   "metadata": {},
   "outputs": [
    {
     "data": {
      "text/plain": [
       "{'\\x00': [],\n",
       " '\\x00\\n': [],\n",
       " '\\x001\\x000\\x00': ['\\x00f\\x00u\\x00b\\x00a\\x00r\\x00 \\x00o\\x00r\\x00_\\x00A\\x00l\\x00a\\x00h\\x00',\n",
       "  '\\x001\\x002\\x00',\n",
       "  '\\x003\\x00',\n",
       "  '\\x000\\x00',\n",
       "  '\\x001\\x00',\n",
       "  '\\x001\\x00\\n'],\n",
       " '\\x002\\x000\\x009\\x00': ['\\x00r\\x00o\\x00u\\x00n\\x00d\\x00 \\x00o\\x00f\\x00 \\x00E\\x00a\\x00r\\x00t\\x00h\\x00',\n",
       "  '\\x003\\x005\\x00',\n",
       "  '\\x003\\x00',\n",
       "  '\\x001\\x00',\n",
       "  '\\x000\\x00',\n",
       "  '\\x000\\x00\\n'],\n",
       " '\\x002\\x001\\x000\\x00': ['\\x00j\\x00g\\x00e\\x00e\\x00k\\x00',\n",
       "  '\\x001\\x000\\x00',\n",
       "  '\\x001\\x00',\n",
       "  '\\x000\\x00',\n",
       "  '\\x001\\x00',\n",
       "  '\\x001\\x00\\n'],\n",
       " '\\x003\\x00': ['\\x00e\\x00l\\x00e\\x00v\\x00e\\x00n\\x00p\\x00o\\x00n\\x00i\\x00e\\x00s\\x00',\n",
       "  '\\x001\\x002\\x00',\n",
       "  '\\x002\\x00',\n",
       "  '\\x001\\x00',\n",
       "  '\\x000\\x00',\n",
       "  '\\x001\\x00\\n'],\n",
       " '\\x005\\x00': ['\\x00e\\x00n\\x00v\\x00i\\x00r\\x00o\\x00n\\x00m\\x00e\\x00n\\x00t\\x00 \\x00o\\x00f\\x00 \\x00h\\x00o\\x00m\\x00e\\x00',\n",
       "  '\\x001\\x000\\x00',\n",
       "  '\\x002\\x00',\n",
       "  '\\x001\\x00',\n",
       "  '\\x001\\x00',\n",
       "  '\\x000\\x00\\n'],\n",
       " '\\x006\\x00': ['\\x00f\\x00u\\x00r\\x00i\\x00e\\x00',\n",
       "  '\\x009\\x00',\n",
       "  '\\x001\\x00',\n",
       "  '\\x000\\x00',\n",
       "  '\\x000\\x00',\n",
       "  '\\x001\\x00\\n'],\n",
       " '\\x007\\x008\\x00': ['\\x00e\\x00u\\x00r\\x00o\\x00p\\x00e\\x00+\\x00',\n",
       "  '\\x003\\x004\\x00',\n",
       "  '\\x003\\x00',\n",
       "  '\\x000\\x00',\n",
       "  '\\x000\\x00',\n",
       "  '\\x000\\x00\\n'],\n",
       " '\\x008\\x009\\x00': ['\\x00w\\x00h\\x00a\\x00t\\x00i\\x00s\\x00i\\x00t\\x00',\n",
       "  '\\x007\\x00',\n",
       "  '\\x002\\x00',\n",
       "  '\\x000\\x00',\n",
       "  '\\x000\\x00',\n",
       "  '\\x001\\x00\\n'],\n",
       " '\\x009\\x000\\x00': ['\\x00w\\x00h\\x00y\\x00 \\x00i\\x00s\\x00 \\x00t\\x00h\\x00i\\x00s\\x00 \\x00h\\x00a\\x00r\\x00d\\x00e\\x00r\\x00 \\x00t\\x00h\\x00e\\x00n\\x00 \\x00u\\x00s\\x00u\\x00a\\x00l\\x00 \\x00p\\x00r\\x00o\\x00j\\x00e\\x00c\\x00t\\x00?\\x00',\n",
       "  '\\x001\\x00',\n",
       "  '\\x004\\x00',\n",
       "  '\\x001\\x00',\n",
       "  '\\x001\\x00',\n",
       "  '\\x000\\x00\\n'],\n",
       " 'яю1\\x002\\x00': ['\\x00i\\x00s\\x00u\\x00s\\x00 \\x00i\\x00n\\x00 \\x00c\\x00o\\x00u\\x00r\\x00t\\x00y\\x00a\\x00r\\x00',\n",
       "  '\\x003\\x004\\x00',\n",
       "  '\\x001\\x00',\n",
       "  '\\x001\\x00',\n",
       "  '\\x001\\x00',\n",
       "  '\\x000\\x00\\n']}"
      ]
     },
     "execution_count": 241,
     "metadata": {},
     "output_type": "execute_result"
    }
   ],
   "source": [
    "data = {}\n",
    "for usr in dat:\n",
    "    data[usr[0]] = list(usr[1:])\n",
    "\n",
    "''' Данные о пользователях: {'id':[Данные о пользователе, кроме id]} \n",
    "'''\n",
    "data"
   ]
  },
  {
   "cell_type": "code",
   "execution_count": 242,
   "metadata": {},
   "outputs": [
    {
     "data": {
      "text/plain": [
       "' Данные вида [another users id] -- this for user with id=0\\n                [another users id] -- for id=1\\n                [another users id] -- for id=2\\n'"
      ]
     },
     "execution_count": 242,
     "metadata": {},
     "output_type": "execute_result"
    }
   ],
   "source": [
    "drata = []\n",
    "for i in list(data.keys()):\n",
    "    a = list(data.keys())\n",
    "    a.remove(i)\n",
    "    drata.append([val for val in a])\n",
    "\n",
    "''' Данные вида [another users id] -- this for user with id=0\n",
    "                [another users id] -- for id=1\n",
    "                [another users id] -- for id=2\n",
    "'''\n",
    "#drata"
   ]
  },
  {
   "cell_type": "code",
   "execution_count": 243,
   "metadata": {},
   "outputs": [
    {
     "ename": "KeyError",
     "evalue": "'1'",
     "output_type": "error",
     "traceback": [
      "\u001b[1;31m---------------------------------------------------------------------------\u001b[0m",
      "\u001b[1;31mKeyError\u001b[0m                                  Traceback (most recent call last)",
      "\u001b[1;32m<ipython-input-243-fbb3154e49eb>\u001b[0m in \u001b[0;36m<module>\u001b[1;34m()\u001b[0m\n\u001b[0;32m      7\u001b[0m     \u001b[1;32mfor\u001b[0m \u001b[0mu\u001b[0m \u001b[1;32min\u001b[0m \u001b[0mlst\u001b[0m\u001b[1;33m:\u001b[0m\u001b[1;33m\u001b[0m\u001b[0m\n\u001b[0;32m      8\u001b[0m         \u001b[0mu_data\u001b[0m \u001b[1;33m=\u001b[0m \u001b[0mnp\u001b[0m\u001b[1;33m.\u001b[0m\u001b[0marray\u001b[0m\u001b[1;33m(\u001b[0m\u001b[0mdata\u001b[0m\u001b[1;33m[\u001b[0m\u001b[0mu\u001b[0m\u001b[1;33m]\u001b[0m\u001b[1;33m[\u001b[0m\u001b[1;36m1\u001b[0m\u001b[1;33m:\u001b[0m\u001b[1;33m]\u001b[0m\u001b[1;33m)\u001b[0m\u001b[1;31m# Вся дата того, кого проверяем, кроме nickname\u001b[0m\u001b[1;33m\u001b[0m\u001b[0m\n\u001b[1;32m----> 9\u001b[1;33m         \u001b[0musr_data\u001b[0m \u001b[1;33m=\u001b[0m \u001b[0mnp\u001b[0m\u001b[1;33m.\u001b[0m\u001b[0marray\u001b[0m\u001b[1;33m(\u001b[0m\u001b[0mdata\u001b[0m\u001b[1;33m[\u001b[0m\u001b[0mstr\u001b[0m\u001b[1;33m(\u001b[0m\u001b[0mnmb\u001b[0m\u001b[1;33m)\u001b[0m\u001b[1;33m]\u001b[0m\u001b[1;33m[\u001b[0m\u001b[1;36m1\u001b[0m\u001b[1;33m:\u001b[0m\u001b[1;33m]\u001b[0m\u001b[1;33m)\u001b[0m\u001b[1;31m# Вся дата того, ДЛЯ кого проверяем, кроме nickname\u001b[0m\u001b[1;33m\u001b[0m\u001b[0m\n\u001b[0m\u001b[0;32m     10\u001b[0m         \u001b[0mwith_ids\u001b[0m\u001b[1;33m.\u001b[0m\u001b[0mappend\u001b[0m\u001b[1;33m(\u001b[0m\u001b[0mlen\u001b[0m\u001b[1;33m(\u001b[0m\u001b[0mnp\u001b[0m\u001b[1;33m.\u001b[0m\u001b[0mwhere\u001b[0m\u001b[1;33m(\u001b[0m\u001b[0mu_data\u001b[0m \u001b[1;33m==\u001b[0m \u001b[0musr_data\u001b[0m\u001b[1;33m)\u001b[0m\u001b[1;33m[\u001b[0m\u001b[1;36m0\u001b[0m\u001b[1;33m]\u001b[0m\u001b[1;33m)\u001b[0m\u001b[1;33m)\u001b[0m\u001b[1;33m\u001b[0m\u001b[0m\n\u001b[0;32m     11\u001b[0m         \u001b[0mtop_ids\u001b[0m\u001b[1;33m.\u001b[0m\u001b[0mappend\u001b[0m\u001b[1;33m(\u001b[0m\u001b[0mu\u001b[0m\u001b[1;33m)\u001b[0m\u001b[1;33m\u001b[0m\u001b[0m\n",
      "\u001b[1;31mKeyError\u001b[0m: '1'"
     ]
    }
   ],
   "source": [
    "final_data = []\n",
    "nmb = 1 # id юзера(см. ниже)\n",
    "for lst in drata:\n",
    "    top_ids= [] #здесь хранятся id\n",
    "    with_ids = [] # тут -- число совпадений\n",
    "    top = []\n",
    "    for u in lst:\n",
    "        u_data = np.array(data[u][1:])# Вся дата того, кого проверяем, кроме nickname\n",
    "        usr_data = np.array(data[str(nmb)][1:])# Вся дата того, ДЛЯ кого проверяем, кроме nickname\n",
    "        with_ids.append(len(np.where(u_data == usr_data)[0]))\n",
    "        top_ids.append(u)\n",
    "    args_by_sort = np.argsort(np.array(with_ids))\n",
    "    #print('top_ids',top_ids)\n",
    "    #print('with_ids',with_ids)\n",
    "    #print('args_by_sort',args_by_sort)\n",
    "    for arg in args_by_sort:\n",
    "        top.append(top_ids[arg])\n",
    "    final_data.append(top)\n",
    "    nmb += 1\n",
    "'''Вот это б*ть то, ради чего мы все тут собрались. Данная клетка воплощает идею о том,\n",
    "Чтобы составить все возможные пары киллер-жертва, и отсортировать потенциальных жертв по\n",
    "кол-ву совпадений по признакам. Выхлоп -- внизу\n",
    "'''"
   ]
  },
  {
   "cell_type": "code",
   "execution_count": 244,
   "metadata": {},
   "outputs": [
    {
     "data": {
      "text/plain": [
       "[]"
      ]
     },
     "execution_count": 244,
     "metadata": {},
     "output_type": "execute_result"
    }
   ],
   "source": [
    "final_data"
   ]
  },
  {
   "cell_type": "code",
   "execution_count": 245,
   "metadata": {
    "scrolled": true
   },
   "outputs": [
    {
     "data": {
      "text/plain": [
       "[]"
      ]
     },
     "execution_count": 245,
     "metadata": {},
     "output_type": "execute_result"
    }
   ],
   "source": [
    "weighted_data = []\n",
    "nmb = 1\n",
    "for lst in final_data:#Не забыть nmb += 1\n",
    "    weighted = []\n",
    "    cloned_final = list(final_data)\n",
    "    cloned_final.remove(lst)\n",
    "    for u in lst:   \n",
    "        weight = 0\n",
    "        for sub_lst in cloned_final:\n",
    "            for sub_u in sub_lst:\n",
    "                if sub_lst.index(sub_u) <= lst.index(u) and u == sub_u:\n",
    "                    weight += 1\n",
    "        weighted.append(weight)\n",
    "    weighted_data.append(weighted)\n",
    "''' Данная чудо-ячейка возвращает нам матрицу с \"весами\" id ,где каждому элементу этого массива\n",
    "сопоставляется id из final_data\n",
    "'''\n",
    "weighted_data"
   ]
  },
  {
   "cell_type": "code",
   "execution_count": 238,
   "metadata": {
    "scrolled": true
   },
   "outputs": [
    {
     "name": "stdout",
     "output_type": "stream",
     "text": [
      "[]\n",
      "Wall time: 0 ns\n"
     ]
    }
   ],
   "source": [
    "%%time\n",
    "pair = []\n",
    "for n in range(0, len(final_data)):\n",
    "    ind = np.argmin(weighted_data[n])\n",
    "    cdel = int(final_data[n][ind]) - 1\n",
    "    for j in range(len(final_data[cdel])):\n",
    "        if final_data[cdel][j] == str(n + 1):\n",
    "            del weighted_data[cdel][j]\n",
    "            del final_data[cdel][j]\n",
    "            break\n",
    "    pair.append(cdel + 1)\n",
    "    for i in range(len(final_data)):\n",
    "        if i != n and i != cdel:\n",
    "            for j in range(0, len(final_data[i])):\n",
    "                if final_data[i][j] == str(cdel + 1):\n",
    "                    del final_data[i][j]\n",
    "                    del weighted_data[i][j]\n",
    "                    break\n",
    "print(pair)"
   ]
  },
  {
   "cell_type": "code",
   "execution_count": null,
   "metadata": {},
   "outputs": [],
   "source": []
  }
 ],
 "metadata": {
  "kernelspec": {
   "display_name": "Python 3",
   "language": "python",
   "name": "python3"
  },
  "language_info": {
   "codemirror_mode": {
    "name": "ipython",
    "version": 3
   },
   "file_extension": ".py",
   "mimetype": "text/x-python",
   "name": "python",
   "nbconvert_exporter": "python",
   "pygments_lexer": "ipython3",
   "version": "3.6.1"
  }
 },
 "nbformat": 4,
 "nbformat_minor": 2
}
