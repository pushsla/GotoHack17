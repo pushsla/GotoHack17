{
 "cells": [
  {
   "cell_type": "markdown",
   "metadata": {},
   "source": [
    "# Надо:\n",
    "* Считать данные из текстового файла\n",
    "* Переделать в numpy array(2 размерности)\n",
    "* **ОБЯЗАТЕЛЬНО** нагенерить данных для обучения\n",
    "* Разбить на выборки\n",
    "* Обучить модель\n",
    "* Перевести предсказания в пары"
   ]
  },
  {
   "cell_type": "code",
   "execution_count": 2,
   "metadata": {
    "collapsed": true
   },
   "outputs": [],
   "source": [
    "import numpy as np\n",
    "import pandas as ps"
   ]
  },
  {
   "cell_type": "code",
   "execution_count": 12,
   "metadata": {},
   "outputs": [
    {
     "data": {
      "text/plain": [
       "' Данные о пользователе: [id, nickname, room_number, direction, (sports...)]\\n                           [0,  kllllevo, 13,           1,         0,1,0,0]\\n'"
      ]
     },
     "execution_count": 12,
     "metadata": {},
     "output_type": "execute_result"
    }
   ],
   "source": [
    "dt = open('example.txt', 'r')\n",
    "dt = dt.readlines()\n",
    "dat = [] #Будущие данные о пользователях\n",
    "for usr in dt:\n",
    "    dat.append(usr.split(',')) #ВАЖНО! разделитель данных -- ЗАПЯТАЯ\n",
    "\n",
    "''' Данные о пользователе: [id, nickname, room_number, direction, (sports...)]\n",
    "                           [0,  kllllevo, 13,           1,         0,1,0,0]\n",
    "'''"
   ]
  },
  {
   "cell_type": "code",
   "execution_count": 13,
   "metadata": {},
   "outputs": [
    {
     "data": {
      "text/plain": [
       "[['1', 'isus in courtyar', '34', '1', '1', '1', '0\\n'],\n",
       " ['2', 'fubar or_Alah', '12', '3', '0', '1', '1\\n'],\n",
       " ['3', 'elevenponies', '12', '2', '1', '0', '1\\n'],\n",
       " ['4', 'environment of home', '10', '2', '1', '1', '0\\n'],\n",
       " ['5', 'furie', '9', '1', '0', '0', '1\\n'],\n",
       " ['6', 'europe+', '34', '3', '0', '0', '0\\n'],\n",
       " ['7', 'round of Earth', '35', '3', '1', '0', '0\\n'],\n",
       " ['8', 'jgeek', '10', '1', '0', '1', '1\\n'],\n",
       " ['9', 'whatisit', '7', '2', '0', '0', '1\\n'],\n",
       " ['10', 'why is this harder then usual project?', '1', '4', '1', '1', '0\\n']]"
      ]
     },
     "execution_count": 13,
     "metadata": {},
     "output_type": "execute_result"
    }
   ],
   "source": [
    "dat"
   ]
  },
  {
   "cell_type": "code",
   "execution_count": 18,
   "metadata": {},
   "outputs": [
    {
     "data": {
      "text/plain": [
       "\" Данные о пользователях: {'id':[Данные о пользователе, кроме id]} \\n\""
      ]
     },
     "execution_count": 18,
     "metadata": {},
     "output_type": "execute_result"
    }
   ],
   "source": [
    "data = {}\n",
    "for usr in dat:\n",
    "    data[usr[0]] = list(usr[1:])\n",
    "\n",
    "''' Данные о пользователях: {'id':[Данные о пользователе, кроме id]} \n",
    "'''"
   ]
  },
  {
   "cell_type": "code",
   "execution_count": 19,
   "metadata": {},
   "outputs": [
    {
     "data": {
      "text/plain": [
       "{'1': ['isus in courtyar', '34', '1', '1', '1', '0\\n'],\n",
       " '10': ['why is this harder then usual project?', '1', '4', '1', '1', '0\\n'],\n",
       " '2': ['fubar or_Alah', '12', '3', '0', '1', '1\\n'],\n",
       " '3': ['elevenponies', '12', '2', '1', '0', '1\\n'],\n",
       " '4': ['environment of home', '10', '2', '1', '1', '0\\n'],\n",
       " '5': ['furie', '9', '1', '0', '0', '1\\n'],\n",
       " '6': ['europe+', '34', '3', '0', '0', '0\\n'],\n",
       " '7': ['round of Earth', '35', '3', '1', '0', '0\\n'],\n",
       " '8': ['jgeek', '10', '1', '0', '1', '1\\n'],\n",
       " '9': ['whatisit', '7', '2', '0', '0', '1\\n']}"
      ]
     },
     "execution_count": 19,
     "metadata": {},
     "output_type": "execute_result"
    }
   ],
   "source": [
    "data"
   ]
  },
  {
   "cell_type": "code",
   "execution_count": 24,
   "metadata": {},
   "outputs": [
    {
     "data": {
      "text/plain": [
       "[['2', '3', '4', '5', '6', '7', '8', '9', '10'],\n",
       " ['1', '3', '4', '5', '6', '7', '8', '9', '10'],\n",
       " ['1', '2', '4', '5', '6', '7', '8', '9', '10'],\n",
       " ['1', '2', '3', '5', '6', '7', '8', '9', '10'],\n",
       " ['1', '2', '3', '4', '6', '7', '8', '9', '10'],\n",
       " ['1', '2', '3', '4', '5', '7', '8', '9', '10'],\n",
       " ['1', '2', '3', '4', '5', '6', '8', '9', '10'],\n",
       " ['1', '2', '3', '4', '5', '6', '7', '9', '10'],\n",
       " ['1', '2', '3', '4', '5', '6', '7', '8', '10'],\n",
       " ['1', '2', '3', '4', '5', '6', '7', '8', '9']]"
      ]
     },
     "execution_count": 24,
     "metadata": {},
     "output_type": "execute_result"
    }
   ],
   "source": [
    "drata = []\n",
    "for i in list(data.keys()):\n",
    "    a = list(data.keys())\n",
    "    a.remove(i)\n",
    "    drata.append([val for val in a])\n",
    "\n",
    "''' Данные вида [another users id] -- this for user with id=0\n",
    "                [another users id] -- for id=1\n",
    "                [another users id] -- for id=2\n",
    "'''\n",
    "drata"
   ]
  },
  {
   "cell_type": "code",
   "execution_count": null,
   "metadata": {
    "collapsed": true
   },
   "outputs": [],
   "source": [
    "final_data = []\n",
    "nmb = 0 # id юзера(см. ниже)\n",
    "for lst in drata[]:\n",
    "    with_weights = {}\n",
    "    weights = []\n",
    "    for u in lst:\n",
    "        u_data = data[usr][1:]# Вся дата того, кого проверяем, кроме nickname\n",
    "        usr_data = data[str(nmb)][1:]# Вся дата того, ДЛЯ кого проверяем, кроме nickname\n",
    "        \n",
    "        \n",
    "        "
   ]
  }
 ],
 "metadata": {
  "kernelspec": {
   "display_name": "Python 3",
   "language": "python",
   "name": "python3"
  },
  "language_info": {
   "codemirror_mode": {
    "name": "ipython",
    "version": 3
   },
   "file_extension": ".py",
   "mimetype": "text/x-python",
   "name": "python",
   "nbconvert_exporter": "python",
   "pygments_lexer": "ipython3",
   "version": "3.6.1"
  }
 },
 "nbformat": 4,
 "nbformat_minor": 2
}
