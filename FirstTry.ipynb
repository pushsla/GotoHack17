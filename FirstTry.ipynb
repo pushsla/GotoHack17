{
 "cells": [
  {
   "cell_type": "markdown",
   "metadata": {},
   "source": [
    " # Надо:\n",
    "* Считать данные из текстового файла\n",
    "* Переделать в numpy array(2 размерности)\n",
    "* **ОБЯЗАТЕЛЬНО** нагенерить данных для обучения\n",
    "* Разбить на выборки\n",
    "* Обучить модель\n",
    "* Перевести предсказания в пары"
   ]
  },
  {
   "cell_type": "code",
   "execution_count": 9,
   "metadata": {
    "collapsed": true
   },
   "outputs": [],
   "source": [
    "import numpy as np\n",
    "import pandas as ps"
   ]
  },
  {
   "cell_type": "code",
   "execution_count": 27,
   "metadata": {},
   "outputs": [],
   "source": [
    "dtt = open('example.txt', 'r')\n",
    "dt = dtt.readlines()\n",
    "dat = [] #Будущие данные о пользователях\n",
    "for usr in dt:\n",
    "    dat.append(usr.split(',')) #ВАЖНО! разделитель данных -- ЗАПЯТАЯ\n",
    "\n",
    "''' Данные о пользователе: [id, nickname, room_number, direction, (sports...)]\n",
    "                           [0,  kllllevo, 13,           1,         0,1,0,0]\n",
    "'''\n",
    "#dat\n",
    "dtt.close()"
   ]
  },
  {
   "cell_type": "code",
   "execution_count": 28,
   "metadata": {},
   "outputs": [
    {
     "data": {
      "text/plain": [
       "{'1': ['dima', '1', '3', '1', '0', '1\\n'],\n",
       " '10': ['isuss', '2', '3', '1', '1', '1'],\n",
       " '2': ['pasha', '1', '4', '0', '1', '1\\n'],\n",
       " '3': ['dunkan', '4', '3', '0', '0', '0\\n'],\n",
       " '4': ['fubar', '2', '2', '0', '0', '0\\n'],\n",
       " '5': ['slava', '1', '4', '1', '1', '1\\n'],\n",
       " '6': ['vania', '3', '1', '0', '1', '0\\n'],\n",
       " '7': ['programmer', '1', '2', '0', '0', '1\\n'],\n",
       " '8': ['hanamury', '3', '1', '1', '0', '0\\n'],\n",
       " '9': ['alah', '5', '4', '0', '0', '0\\n']}"
      ]
     },
     "execution_count": 28,
     "metadata": {},
     "output_type": "execute_result"
    }
   ],
   "source": [
    "data = {}\n",
    "for usr in dat:\n",
    "    data[usr[0]] = list(usr[1:])\n",
    "\n",
    "''' Данные о пользователях: {'id':[Данные о пользователе, кроме id]} \n",
    "'''\n",
    "data"
   ]
  },
  {
   "cell_type": "code",
   "execution_count": 29,
   "metadata": {},
   "outputs": [
    {
     "data": {
      "text/plain": [
       "' Данные вида [another users id] -- this for user with id=0\\n                [another users id] -- for id=1\\n                [another users id] -- for id=2\\n'"
      ]
     },
     "execution_count": 29,
     "metadata": {},
     "output_type": "execute_result"
    }
   ],
   "source": [
    "drata = []\n",
    "for i in list(data.keys()):\n",
    "    a = list(data.keys())\n",
    "    a.remove(i)\n",
    "    drata.append([val for val in a])\n",
    "\n",
    "''' Данные вида [another users id] -- this for user with id=0\n",
    "                [another users id] -- for id=1\n",
    "                [another users id] -- for id=2\n",
    "'''\n",
    "#drata"
   ]
  },
  {
   "cell_type": "code",
   "execution_count": 30,
   "metadata": {},
   "outputs": [
    {
     "data": {
      "text/plain": [
       "'Вот это б*ть то, ради чего мы все тут собрались. Данная клетка воплощает идею о том,\\nЧтобы составить все возможные пары киллер-жертва, и отсортировать потенциальных жертв по\\nкол-ву совпадений по признакам. Выхлоп -- внизу\\n'"
      ]
     },
     "execution_count": 30,
     "metadata": {},
     "output_type": "execute_result"
    }
   ],
   "source": [
    "final_data = []\n",
    "nmb = 1 # id юзера(см. ниже)\n",
    "for lst in drata:\n",
    "    top_ids= [] #здесь хранятся id\n",
    "    with_ids = [] # тут -- число совпадений\n",
    "    top = []\n",
    "    for u in lst:\n",
    "        u_data = np.array(data[u][1:])# Вся дата того, кого проверяем, кроме nickname\n",
    "        usr_data = np.array(data[str(nmb)][1:])# Вся дата того, ДЛЯ кого проверяем, кроме nickname\n",
    "        with_ids.append(len(np.where(u_data == usr_data)[0]))\n",
    "        top_ids.append(u)\n",
    "    args_by_sort = np.argsort(np.array(with_ids))\n",
    "    #print('top_ids',top_ids)\n",
    "    #print('with_ids',with_ids)\n",
    "    #print('args_by_sort',args_by_sort)\n",
    "    for arg in args_by_sort:\n",
    "        top.append(top_ids[arg])\n",
    "    final_data.append(top)\n",
    "    nmb += 1\n",
    "'''Вот это б*ть то, ради чего мы все тут собрались. Данная клетка воплощает идею о том,\n",
    "Чтобы составить все возможные пары киллер-жертва, и отсортировать потенциальных жертв по\n",
    "кол-ву совпадений по признакам. Выхлоп -- внизу\n",
    "'''"
   ]
  },
  {
   "cell_type": "code",
   "execution_count": 31,
   "metadata": {},
   "outputs": [
    {
     "data": {
      "text/plain": [
       "[['6', '4', '9', '2', '3', '8', '10', '5', '7'],\n",
       " ['8', '3', '4', '10', '1', '6', '9', '7', '5'],\n",
       " ['5', '2', '10', '1', '6', '7', '8', '4', '9'],\n",
       " ['5', '1', '2', '10', '6', '8', '3', '7', '9'],\n",
       " ['3', '4', '6', '8', '9', '7', '10', '1', '2'],\n",
       " ['1', '5', '7', '10', '2', '3', '4', '9', '8'],\n",
       " ['10', '6', '8', '3', '5', '9', '1', '2', '4'],\n",
       " ['2', '5', '7', '10', '1', '3', '4', '9', '6'],\n",
       " ['10', '1', '5', '2', '6', '7', '8', '3', '4'],\n",
       " ['7', '9', '2', '3', '4', '6', '8', '1', '5']]"
      ]
     },
     "execution_count": 31,
     "metadata": {},
     "output_type": "execute_result"
    }
   ],
   "source": [
    "final_data"
   ]
  },
  {
   "cell_type": "code",
   "execution_count": 32,
   "metadata": {
    "scrolled": true
   },
   "outputs": [
    {
     "data": {
      "text/plain": [
       "[[0, 1, 2, 12, 13, 14, 36, 40, 39],\n",
       " [0, 2, 4, 13, 16, 22, 16, 30, 49],\n",
       " [1, 2, 6, 10, 14, 16, 22, 28, 32],\n",
       " [1, 3, 6, 13, 14, 14, 28, 30, 32],\n",
       " [0, 1, 5, 6, 7, 16, 36, 38, 50],\n",
       " [0, 5, 4, 13, 19, 20, 21, 23, 39],\n",
       " [1, 2, 3, 8, 21, 11, 29, 41, 37],\n",
       " [0, 5, 4, 13, 16, 20, 21, 23, 47],\n",
       " [1, 3, 10, 12, 14, 16, 22, 37, 37],\n",
       " [0, 0, 6, 8, 11, 22, 22, 38, 49]]"
      ]
     },
     "execution_count": 32,
     "metadata": {},
     "output_type": "execute_result"
    }
   ],
   "source": [
    "weighted_data = []\n",
    "nmb = 1\n",
    "for lst in final_data:#Не забыть nmb += 1\n",
    "    weighted = []\n",
    "    cloned_final = list(final_data)\n",
    "    cloned_final.remove(lst)\n",
    "    for u in lst:   \n",
    "        weight = 0\n",
    "        for sub_lst in cloned_final:\n",
    "            for sub_u in sub_lst:\n",
    "                if sub_lst.index(sub_u) <= lst.index(u) and u == sub_u:\n",
    "                    weight += lst.index(u) - sub_lst.index(sub_u) + 1\n",
    "        weighted.append(weight)\n",
    "    weighted_data.append(weighted)\n",
    "''' Данная чудо-ячейка возвращает нам матрицу с \"весами\" id ,где каждому элементу этого массива\n",
    "сопоставляется id из final_data\n",
    "'''\n",
    "weighted_data"
   ]
  },
  {
   "cell_type": "code",
   "execution_count": 33,
   "metadata": {
    "scrolled": true
   },
   "outputs": [
    {
     "name": "stdout",
     "output_type": "stream",
     "text": [
      "[6, 8, 5, 1, 4, 7, 10, 3, 2, 9]\n",
      "Wall time: 1 ms\n"
     ]
    }
   ],
   "source": [
    "%%time\n",
    "pair = []\n",
    "for n in range(0, len(final_data)):\n",
    "    ind = np.argmin(weighted_data[n])\n",
    "    cdel = int(final_data[n][ind]) - 1\n",
    "    for j in range(len(final_data[cdel])):\n",
    "        if final_data[cdel][j] == str(n + 1):\n",
    "            del weighted_data[cdel][j]\n",
    "            del final_data[cdel][j]\n",
    "            break\n",
    "    pair.append(cdel + 1)\n",
    "    for i in range(len(final_data)):\n",
    "        if i != n and i != cdel:\n",
    "            for j in range(0, len(final_data[i])):\n",
    "                if final_data[i][j] == str(cdel + 1):\n",
    "                    del final_data[i][j]\n",
    "                    del weighted_data[i][j]\n",
    "                    break\n",
    "print(pair)"
   ]
  },
  {
   "cell_type": "code",
   "execution_count": null,
   "metadata": {
    "collapsed": true
   },
   "outputs": [],
   "source": []
  }
 ],
 "metadata": {
  "kernelspec": {
   "display_name": "Python 3",
   "language": "python",
   "name": "python3"
  },
  "language_info": {
   "codemirror_mode": {
    "name": "ipython",
    "version": 3
   },
   "file_extension": ".py",
   "mimetype": "text/x-python",
   "name": "python",
   "nbconvert_exporter": "python",
   "pygments_lexer": "ipython3",
   "version": "3.6.1"
  }
 },
 "nbformat": 4,
 "nbformat_minor": 2
}
