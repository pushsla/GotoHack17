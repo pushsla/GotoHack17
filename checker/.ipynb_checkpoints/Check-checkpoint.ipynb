{
 "cells": [
  {
   "cell_type": "markdown",
   "metadata": {},
   "source": [
    "## HowToUse this defines\n",
    "### Всем функциям передается имя массива, в котором хранятся данные\n",
    "### Для создания массива с данными \n",
    "* Вызывается initialise(name), где name -- имя файла со статусами. Функция возвращает массив массивов по строками\n",
    "### Для получения информации о игроке\n",
    "* Вызывается get_status(data, id), где data -- имя массива(см. выше), а id -- идентификатор игрока\n",
    "### Для изменения статуса игрока\n",
    "* Вызывается set_status(data, id, status), где data -- имя массива, id -- идентификатор, status -- новый статус(0\\1)\n",
    "### Для записи измененных данных в файл\n",
    "* Вызывается write_data(data, name), где data -- имя массива, name -- имя файла для записи.<br>\n",
    "**При записи данных в файл, он ПЕРЕЗАПИСЫВАЕТСЯ.**"
   ]
  },
  {
   "cell_type": "code",
   "execution_count": 52,
   "metadata": {
    "collapsed": true
   },
   "outputs": [],
   "source": [
    "def initialise(name):\n",
    "    fil = open(name, 'r')\n",
    "    data = fil.readlines()\n",
    "    fil.close()\n",
    "    \n",
    "    data = [val.split(',') for val in data]\n",
    "    for i in range(len(data)):\n",
    "        for s in range(len(data[i])):\n",
    "            data[i][s] = data[i][s].split('\\n')[0]\n",
    "    return data"
   ]
  },
  {
   "cell_type": "code",
   "execution_count": 47,
   "metadata": {},
   "outputs": [],
   "source": [
    "def get_status(data, id_):\n",
    "    return data[id_][-1]"
   ]
  },
  {
   "cell_type": "code",
   "execution_count": 48,
   "metadata": {
    "collapsed": true
   },
   "outputs": [],
   "source": [
    "def set_status(data, id_, st):\n",
    "    data[id_][-1] = st"
   ]
  },
  {
   "cell_type": "code",
   "execution_count": 49,
   "metadata": {
    "collapsed": true
   },
   "outputs": [],
   "source": [
    "def add_gamer(data, nick):\n",
    "    id_ = len(data)+1\n",
    "    data.append([id_,nick,1])"
   ]
  },
  {
   "cell_type": "code",
   "execution_count": 50,
   "metadata": {
    "collapsed": true
   },
   "outputs": [],
   "source": [
    "def write_data(data, name):\n",
    "    fil = open(name, 'w')\n",
    "    for i in data:\n",
    "        st = str(i[0])+','+str(i[1])+','+str(i[2])+'\\n'\n",
    "        fil.write(st)\n",
    "    fil.close()"
   ]
  }
 ],
 "metadata": {
  "kernelspec": {
   "display_name": "Python 3",
   "language": "python",
   "name": "python3"
  },
  "language_info": {
   "codemirror_mode": {
    "name": "ipython",
    "version": 3
   },
   "file_extension": ".py",
   "mimetype": "text/x-python",
   "name": "python",
   "nbconvert_exporter": "python",
   "pygments_lexer": "ipython3",
   "version": "3.6.1"
  }
 },
 "nbformat": 4,
 "nbformat_minor": 2
}
