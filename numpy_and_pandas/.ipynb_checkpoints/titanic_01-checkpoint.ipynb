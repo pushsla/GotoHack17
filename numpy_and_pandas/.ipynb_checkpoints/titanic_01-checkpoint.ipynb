{
 "cells": [
  {
   "cell_type": "markdown",
   "metadata": {},
   "source": [
    "# Как выжить на Титанике\n",
    "\n",
    "---\n",
    "\n",
    "Эта тетрадка научит тебя использовать numpy, pandas, строить графики в matplotlib и выживать при кораблекрушении.\n",
    "\n",
    "Начнём!\n",
    "\n",
    "\n",
    "* Клетки можно просто выполнять (выделить и ctrl+enter или shift+enter - чтобы сразу выделить следующую)\n",
    "* По надобности их можно создавать (\"плюсик\" в панели наверху)\n",
    "* В некоторых клетках нужно дописать код, что именно - пишется в комментариях рядом"
   ]
  },
  {
   "cell_type": "markdown",
   "metadata": {},
   "source": [
    "## Знакомство с NumPy\n",
    "Библиотека NumPy -- быстрая библиотека для математики в Python, основная структура данных -- массив numpy.array:"
   ]
  },
  {
   "cell_type": "code",
   "execution_count": 2,
   "metadata": {},
   "outputs": [
    {
     "name": "stdout",
     "output_type": "stream",
     "text": [
      "a = [1 2 3 4 5]  type: int32\n",
      "b = [ 0.1  0.2  0.3  0.4  0.5]  type: float64\n"
     ]
    }
   ],
   "source": [
    "# подключение модуля numpy\n",
    "import numpy\n",
    "\n",
    "# основная структура данных - массив\n",
    "a = numpy.array([1, 2, 3, 4, 5])\n",
    "b = numpy.array([0.1, 0.2, 0.3, 0.4, 0.5])\n",
    "print(\"a =\", a, \" type:\", a.dtype)\n",
    "print(\"b =\", b, \" type:\", b.dtype)"
   ]
  },
  {
   "cell_type": "markdown",
   "metadata": {},
   "source": [
    "Арифметические операции применяются поэлементно:"
   ]
  },
  {
   "cell_type": "code",
   "execution_count": null,
   "metadata": {
    "collapsed": true
   },
   "outputs": [],
   "source": [
    "# математические операции считаются для каждого элемента массива\n",
    "print(\"a+1 =\", a + 1)\n",
    "print(\"a*2 =\", a * 2)\n",
    "# если в операции участвуют 2 массива, операции считаются для соответствующих пар\n",
    "print(\"a+b =\", a + b)\n",
    "print(\"a*b =\", a * b)"
   ]
  },
  {
   "cell_type": "markdown",
   "metadata": {},
   "source": [
    "Логические операции тоже применяются к каждому элементу массива. Возвращаемое значение -- массив, содержащий результаты вычислений для каждого элемента:"
   ]
  },
  {
   "cell_type": "code",
   "execution_count": 3,
   "metadata": {},
   "outputs": [
    {
     "name": "stdout",
     "output_type": "stream",
     "text": [
      "a = [1 2 3 4 5]\n",
      "a==2: [False  True False False False]\n",
      "a>2: [False False  True  True  True]\n",
      "\n",
      "numpy.logical_not(a>2): [ True  True False False False]\n",
      "numpy.logical_and(a>2, b>0): [False False  True  True  True]\n",
      "numpy.logical_or(a>4, b<0.5) = [ True  True  True  True  True]\n",
      "\n",
      "или проще\n",
      "~(a>2) =  [ True  True False False False]\n",
      "(a>2) & (b>0) =  [False False  True  True  True]\n",
      "(a>2) | (b<0.5) =  [ True  True  True  True  True]\n"
     ]
    }
   ],
   "source": [
    "print(\"a =\", a)\n",
    "print(\"a==2:\", a == 2)\n",
    "print(\"a>2:\", a > 2)\n",
    "\n",
    "print(\"\\nnumpy.logical_not(a>2):\", numpy.logical_not(a > 2))\n",
    "print(\"numpy.logical_and(a>2, b>0):\", numpy.logical_and(a > 2, b > 0))\n",
    "print(\"numpy.logical_or(a>4, b<0.5) =\", numpy.logical_or(a > 2, b < 0.5))\n",
    "\n",
    "print(\"\\nили проще\")\n",
    "print(\"~(a>2) = \", ~(a > 2))  # как logical_not\n",
    "print(\"(a>2) & (b>0) = \", (a > 2) & (b > 0)) # как logical_and\n",
    "print(\"(a>2) | (b<0.5) = \", (a > 2) | (b < 0.5)) # как logical_or"
   ]
  },
  {
   "cell_type": "markdown",
   "metadata": {},
   "source": [
    "Массивы с логическими значениями удобно использовать для выбора элементов массива, удовлетворяющих какому-нибудь условию:"
   ]
  },
  {
   "cell_type": "code",
   "execution_count": 4,
   "metadata": {},
   "outputs": [
    {
     "name": "stdout",
     "output_type": "stream",
     "text": [
      "a = [1 2 3 4 5]\n",
      "a>2: [False False  True  True  True]\n",
      "a[a>2] = [3 4 5]\n",
      "numpy.where(a>2) = (array([2, 3, 4], dtype=int64),)\n",
      "a[numpy.where(a>2)] = [3 4 5]\n"
     ]
    }
   ],
   "source": [
    "print(\"a =\", a)\n",
    "print(\"a>2:\", a > 2)\n",
    "# индексация - выбираем элементы из массива\n",
    "print(\"a[a>2] =\", a[a > 2])\n",
    "# где в массиве лежат True (кортеж, в котором лежит массив с индексами)\n",
    "print(\"numpy.where(a>2) =\", numpy.where(a > 2))\n",
    "print(\"a[numpy.where(a>2)] =\", a[numpy.where(a > 2)])"
   ]
  },
  {
   "cell_type": "markdown",
   "metadata": {},
   "source": [
    "### А ещё...\n",
    "В NumPy очень много полезных и быстрых операций, Google в помощь!"
   ]
  },
  {
   "cell_type": "code",
   "execution_count": null,
   "metadata": {
    "collapsed": true
   },
   "outputs": [],
   "source": [
    "print(\"numpy.sum(a) = \", numpy.sum(a))\n",
    "print(\"numpy.min(a) = \", numpy.min(a))\n",
    "print(\"numpy.argmin(a) = \", numpy.argmin(a)) # индекс минимального элемента\n",
    "print(\"numpy.unique(['male','male','female','female','male']) =\", numpy.unique(['male', 'male', 'female', 'female', 'male']))\n",
    "# и ещё много  всего ..."
   ]
  },
  {
   "cell_type": "markdown",
   "metadata": {},
   "source": [
    "### Немного тренировки\n",
    "---\n",
    "Выполни операции, перечисленные ниже:"
   ]
  },
  {
   "cell_type": "code",
   "execution_count": null,
   "metadata": {
    "collapsed": true
   },
   "outputs": [],
   "source": [
    "print(\"Разность между a и b:\", None) #<твой код>\n",
    "print(\"Квадраты элементов b:\", None) #<твой код>\n",
    "print(\"Половины произведений элементов массивов a и b:\", None) #<твой код>\n",
    "print(\"Частное разности элементов a и единицы с квадратами b:\", None)#<твой код>"
   ]
  },
  {
   "cell_type": "code",
   "execution_count": null,
   "metadata": {
    "collapsed": true
   },
   "outputs": [],
   "source": [
    "print(\"Индексы элементов b, которые больше 0.25:\", None) #<твой код>\n",
    "print(\"Элементы a, квадрат которых меньше 16:\", None) #<твой код>\n",
    "print(\"Элементы массива a, стоящие на местах, где элементы b>0.25:\", None) #<твой код>"
   ]
  },
  {
   "cell_type": "code",
   "execution_count": null,
   "metadata": {
    "collapsed": true
   },
   "outputs": [],
   "source": [
    "print(\"Максимальный элемент b:\", None) #<твой код>\n",
    "print(\"Индекс максимального элемента b:\", None) #<твой код>\n",
    "print(\"Арифметическоее среднее массива b:\", None) #<твой код>"
   ]
  },
  {
   "cell_type": "markdown",
   "metadata": {},
   "source": [
    "## Бонус по NumPy: насколько она быстрая, Гарри?\n",
    "Испытаем numpy на скорость\n",
    "* создадим 2 массива по 10^6 элементов\n",
    " * первый - числа от 0 до 1 000 000\n",
    " * второй - числа от 99 до 1 000 099\n",
    "* посчитаем:\n",
    " * поэлементную сумму\n",
    " * поэлементное произведение\n",
    " * корень квадратный элементов первого массива\n",
    " * сумму всех элементов первого массива (одно число)\n",
    " \n",
    "* Сделаем это 3-мя способами\n",
    " * чистый python и списки\n",
    " * начинаем в python, преобразуем в numpy и \n",
    "\n"
   ]
  },
  {
   "cell_type": "code",
   "execution_count": null,
   "metadata": {
    "collapsed": true
   },
   "outputs": [],
   "source": [
    "%%time\n",
    "# эта штука считает время выполнения КЛЕТКИ (должна быть на первой строчке клетки)\n",
    "# время печатается в конце (точное время - total)\n",
    "\n",
    "# без numpy, чистый python\n",
    "arr_1 = range(1000000 + 1)\n",
    "arr_2 = range(99, 1000099 + 1)\n",
    "\n",
    "a_sum = []\n",
    "a_prod = []\n",
    "sqrt_a1 = []\n",
    "for i in range(len(arr_1)):\n",
    "    a_sum.append(arr_1[i] + arr_2[i])\n",
    "    a_prod.append(arr_1[i] * arr_2[i])\n",
    "    a_sum.append(arr_1[i] ** 0.5)\n",
    "    \n",
    "# сумма всех элементов arr_1\n",
    "arr_1_sum = sum(arr_1)"
   ]
  },
  {
   "cell_type": "code",
   "execution_count": null,
   "metadata": {
    "collapsed": true
   },
   "outputs": [],
   "source": [
    "%%time\n",
    "\n",
    "# с numpy, преобразуя из list\n",
    "arr_1 = range(1000000 + 1)\n",
    "arr_2 = range(99, 1000099 + 1)\n",
    "\n",
    "arr_1, arr_2 = numpy.array(arr_1), numpy.array(arr_2)\n",
    "\n",
    "a_sum = arr_1 + arr_2\n",
    "a_prod = arr_1 * arr_2\n",
    "sqrt_a1 = arr_1 ** 0.5"
   ]
  },
  {
   "cell_type": "code",
   "execution_count": null,
   "metadata": {
    "collapsed": true
   },
   "outputs": [],
   "source": [
    "%%time\n",
    "# чистый numpy\n",
    "arr_1 = numpy.arange(1000000 + 1)\n",
    "arr_2 = numpy.arange(99, 1000099 + 1)\n",
    "\n",
    "a_sum = arr_1 + arr_2\n",
    "a_prod = arr_1 * arr_2\n",
    "sqrt_a1 = arr_1 ** 0.5"
   ]
  },
  {
   "cell_type": "markdown",
   "metadata": {},
   "source": [
    "## Pandas\n",
    "\n",
    "![](https://filearmy.s3.amazonaws.com/2017/03/03/25b10be.jpg)\n",
    "\n",
    "Загрузим данные о пассажирах Титаника из файла train.csv и выведем первые строки таблицы:"
   ]
  },
  {
   "cell_type": "code",
   "execution_count": null,
   "metadata": {
    "collapsed": true
   },
   "outputs": [],
   "source": [
    "# подключим модуль Pandas\n",
    "# он нужен, чтобы работать с данными\n",
    "import pandas\n",
    "\n",
    "# считаем данные\n",
    "data = pandas.DataFrame.from_csv(\"train.csv\")"
   ]
  },
  {
   "cell_type": "code",
   "execution_count": null,
   "metadata": {
    "collapsed": true
   },
   "outputs": [],
   "source": [
    "# данные - таблица, двумерный массив\n",
    "data[:5]"
   ]
  },
  {
   "cell_type": "markdown",
   "metadata": {},
   "source": [
    "### Описание данных\n",
    "* Survived - выжил ли человек\n",
    "* Pclass - класс, которым человек путешествовал\n",
    "* Name - имя (строка)\n",
    "* Sex - пол, а не то, что ты подумал - строка male/female\n",
    "* Age - возраст\n",
    "* Sibsp - число родственников на корабле\n",
    "* Parch - число родителей на корабле\n",
    "* Ticket - билет (строка-шифр)\n",
    "* Fare - сколько стоил билет\n",
    "* Cabin - номер каюты, если есть\n",
    "* Embarked - порт, в котором человек зашёл на борт (C = Cherbourg; Q = Queenstown; S = Southampton)\n",
    "\n",
    "В некоторых колонках встречается NaN - значит, что у данного человека данная колонка неизвестна (квест - найти их глазами в данных выше)\n",
    "\n",
    "---\n",
    "\n",
    "Вывести размеры таблицы можно с помощью функции len (получим количество строк) и shape (получим кортеж с количеством строк и столбцов):"
   ]
  },
  {
   "cell_type": "code",
   "execution_count": null,
   "metadata": {
    "collapsed": true
   },
   "outputs": [],
   "source": [
    "# размеры таблицы\n",
    "print(\"len(data) =\", len(data))\n",
    "print(\"data.shape =\", data.shape)"
   ]
  },
  {
   "cell_type": "markdown",
   "metadata": {},
   "source": [
    "### Индексация в Pandas"
   ]
  },
  {
   "cell_type": "code",
   "execution_count": null,
   "metadata": {
    "collapsed": true
   },
   "outputs": [],
   "source": [
    "# вот так можно получить 4-ую строку таблицы, считая с нуля\n",
    "print(data.irow(4))"
   ]
  },
  {
   "cell_type": "code",
   "execution_count": null,
   "metadata": {
    "collapsed": true
   },
   "outputs": [],
   "source": [
    "# первые 5 строк\n",
    "print(data[0:5])"
   ]
  },
  {
   "cell_type": "code",
   "execution_count": null,
   "metadata": {
    "collapsed": true
   },
   "outputs": [],
   "source": [
    "# так можно получить столбец\n",
    "print(data[\"Name\"])\n",
    "# или даже так:\n",
    "## print(data.Name)"
   ]
  },
  {
   "cell_type": "code",
   "execution_count": null,
   "metadata": {
    "collapsed": true
   },
   "outputs": [],
   "source": [
    "# несколько колонок, несколько строк\n",
    "data[[\"Sex\", \"Pclass\"]][5:10]"
   ]
  },
  {
   "cell_type": "markdown",
   "metadata": {},
   "source": [
    "Как и в NumPy, в Pandas много операций, облегчающих жизнь:"
   ]
  },
  {
   "cell_type": "code",
   "execution_count": null,
   "metadata": {
    "collapsed": true
   },
   "outputs": [],
   "source": [
    "print(\"Максимальная цена на билет:\", data.Fare.max())"
   ]
  },
  {
   "cell_type": "markdown",
   "metadata": {},
   "source": [
    "## Теперь сам\n",
    "* выведи данные о 1, 13, 666 и последнем пассажире. Кто из них выжил?\n",
    "\n",
    "\n",
    "* выведи данные о столбике \"Survived\" - выжившие.\n",
    "* напиши программу, которая считает, сколько всего людей выжило и сколько всего людей было на корабле\n",
    "\n",
    "\n",
    "! Обрати внимание, что в данных может быть мусор (NaN, пустые значения) ! \n",
    "\n",
    "Их можно найти и удалить. Подумай (или погугли), как это сделать в питоне"
   ]
  },
  {
   "cell_type": "code",
   "execution_count": null,
   "metadata": {
    "collapsed": true
   },
   "outputs": [],
   "source": [
    "# 1, 13, 666 и последний из пассажиров"
   ]
  },
  {
   "cell_type": "code",
   "execution_count": null,
   "metadata": {
    "collapsed": true
   },
   "outputs": [],
   "source": [
    "# \"Survived\""
   ]
  },
  {
   "cell_type": "code",
   "execution_count": null,
   "metadata": {
    "collapsed": true
   },
   "outputs": [],
   "source": [
    "# программа"
   ]
  },
  {
   "cell_type": "code",
   "execution_count": null,
   "metadata": {
    "collapsed": true
   },
   "outputs": [],
   "source": [
    "# бонус - посчитай средний возраст людей на корабле (тут точно будет NaN)"
   ]
  },
  {
   "cell_type": "markdown",
   "metadata": {},
   "source": [
    "### Обработка NaN\n",
    "Теперь посмотрим, как можно выбрать данные без пропущенных значений (NaN).\n",
    "\n",
    "Например, в колонке возраст есть пропущенные значения:"
   ]
  },
  {
   "cell_type": "code",
   "execution_count": null,
   "metadata": {
    "collapsed": true
   },
   "outputs": [],
   "source": [
    "data[[\"Name\", \"Age\"]][:7]"
   ]
  },
  {
   "cell_type": "markdown",
   "metadata": {},
   "source": [
    "**Задача:** хотим найти число людей с известным возрастом.\n",
    "\n",
    "Выделим данные, в которых определённая колонка - не NaN:"
   ]
  },
  {
   "cell_type": "code",
   "execution_count": null,
   "metadata": {
    "collapsed": true
   },
   "outputs": [],
   "source": [
    "age_is_nan = numpy.isnan(data.Age) # массив bool - является ли у данного человека возраст NaN\n",
    "age_is_nan[:7]"
   ]
  },
  {
   "cell_type": "markdown",
   "metadata": {},
   "source": [
    "Сохраним пассажиров с известным образом в отдельную таблицу:"
   ]
  },
  {
   "cell_type": "code",
   "execution_count": null,
   "metadata": {
    "collapsed": true,
    "scrolled": true
   },
   "outputs": [],
   "source": [
    "# все люди, у которых возраст - не NaN (отдельная таблица)\n",
    "data_with_age = data[numpy.logical_not(age_is_nan)]\n",
    "\n",
    "print(len(data), \"всего людей\")\n",
    "print(len(data_with_age), \"людей с известным возрастом\")"
   ]
  },
  {
   "cell_type": "code",
   "execution_count": null,
   "metadata": {
    "collapsed": true
   },
   "outputs": [],
   "source": [
    "data_with_age[[\"Name\", \"Age\"]][:7]"
   ]
  },
  {
   "cell_type": "code",
   "execution_count": null,
   "metadata": {
    "collapsed": true
   },
   "outputs": [],
   "source": [
    "# найди пассажира с (минимальной/максимальной) стоимостью билета. Сколько он заплатил? Выжил ли он?\n",
    "print(None) #<твой код>\n",
    "\n",
    "# Сколько лет было самому (молодому\\старому) пассажиру. Как его звали? Какого он пола?\n",
    "print(None) #<твой код>"
   ]
  },
  {
   "cell_type": "markdown",
   "metadata": {},
   "source": [
    "**Мини-квест:** найди число и долю людей с известным возрастом в 1-2 строчки с использованием numpy\n",
    "\n",
    "*подсказка:*\n",
    "- *если массив состоит из 0 и 1, то сумма элементов = количество единичек *\n",
    "- *среднее значение = вероятность единички*"
   ]
  },
  {
   "cell_type": "code",
   "execution_count": null,
   "metadata": {
    "collapsed": true
   },
   "outputs": [],
   "source": []
  },
  {
   "cell_type": "markdown",
   "metadata": {},
   "source": [
    "### Немного практики"
   ]
  },
  {
   "cell_type": "markdown",
   "metadata": {},
   "source": [
    "Квесты\n",
    "* 1) сколько всего классов и какие они? (\"Pclass\")\n",
    "* 2) какая средняя стоимость билета в каждом классе?\n",
    "* 3) в каком классе больше детей (< 18 лет)? \n",
    "* 4) все ли дети путешествуют с родителями?\n",
    "* 5) есть ли различия в названиях билетов (\"Ticket\") в разных классах?"
   ]
  },
  {
   "cell_type": "code",
   "execution_count": null,
   "metadata": {
    "collapsed": true
   },
   "outputs": [],
   "source": [
    "#<твой код>"
   ]
  },
  {
   "cell_type": "markdown",
   "metadata": {},
   "source": [
    "Бонусные сайд-квесты\n",
    "* 1) какие бывают порты? (\"Embarked\")\n",
    "* 2) из какого порта больше пассажиров\n",
    "* 3) в каком порту самые дорогие билеты?\n",
    "* 4) в каком порту самые молодые девушки?\n",
    "* 5) есть ли различия в названиях билетов (\"Ticket\") в разных портах?"
   ]
  },
  {
   "cell_type": "code",
   "execution_count": null,
   "metadata": {
    "collapsed": true
   },
   "outputs": [],
   "source": [
    "#<твой код>"
   ]
  },
  {
   "cell_type": "markdown",
   "metadata": {},
   "source": [
    "#### Битва полов:\n",
    "* кто больше платил за билет?\n",
    "* у кого больше вероятность, что он плавает с семьёй (в данных колонка \"SibSp\" - к-во родственников)\n",
    "* кто в среднем моложе?\n",
    "* кто ЧАЩЕ плавает ПЕРВЫМ классом? (\"Pclass\")\n",
    "---\n",
    "Сначала выдели в отдельные таблицы мужчин и женщин:"
   ]
  },
  {
   "cell_type": "code",
   "execution_count": null,
   "metadata": {
    "collapsed": true
   },
   "outputs": [],
   "source": [
    "# за пол отвечает колонка \"Sex\", (\"male\", \"female\")\n",
    "\n",
    "men = None #<твой код>\n",
    "women = None #<твой код>\n",
    "\n",
    "# кто с большей вероятностью выживет: мужчина или женщина?\n",
    "print(\"P(выжил|мужчина) =\", None) #<твой код>\n",
    "print(\"P(выжил|женщина) =\", None) #<твой код>"
   ]
  },
  {
   "cell_type": "code",
   "execution_count": null,
   "metadata": {
    "collapsed": true
   },
   "outputs": [],
   "source": [
    "print(\"Средняя цена для мужчин:\", None) #<твой код> \n",
    "print(\"Средняя цена для женщин:\", None) #<твой код>\n",
    "\n",
    "print(\"Вероятность, у мужчины на корабле семья\", None) #<твой код>\n",
    "print(\"Вероятность, у женщины на корабле семья\", None) #<твой код>\n",
    "\n",
    "print(\"Средний возраст мужчин:\", None) #<твой код>\n",
    "print(\"Средний возраст женщин:\", None) #<твой код>\n",
    "\n",
    "print(\"Вероятность плавать первым классом у мужчин:\", None) #<твой код>\n",
    "print(\"Вероятность плавать первым классом у женщин:\", None) #<твой код>"
   ]
  },
  {
   "cell_type": "markdown",
   "metadata": {},
   "source": [
    "## Графики и matplotlib\n",
    "Как рисовать красивые картинки и издеваться над любителями MS Excel!"
   ]
  },
  {
   "cell_type": "code",
   "execution_count": null,
   "metadata": {
    "collapsed": true
   },
   "outputs": [],
   "source": [
    "# подключение модуля matplotlib.pyplot под именем plt\n",
    "import matplotlib.pyplot as plt\n",
    "# чтобы графики рисовались прямо в ячейке, а не в отдельном окне\n",
    "%matplotlib inline\n",
    "\n",
    "# линии\n",
    "plt.plot([0, 1, 2, 3, 4, 5], [0, 1, 4, 9, 16, 25])\n",
    "# после этой функции всё уже построенное отрисуется и начнётся новый график\n",
    "plt.show()\n",
    "# точки\n",
    "plt.scatter([0, 1, 2, 3, 4, 5], [0, 1, 4, 9, 16, 25])"
   ]
  },
  {
   "cell_type": "code",
   "execution_count": null,
   "metadata": {
    "collapsed": true
   },
   "outputs": [],
   "source": [
    "# если не писать plt.show() между графиками, они накладываются\n",
    "plt.scatter([1, 1, 2, 3], [3, 2, 2, 1], c=[\"red\", \"blue\", \"blue\", \"green\"], marker=\"x\")\n",
    "plt.scatter([0, 1, 2, 3, 4, 5], [0, 1, 4, 9, 16, 25], c=\"black\")"
   ]
  },
  {
   "cell_type": "markdown",
   "metadata": {},
   "source": [
    "Посмотрим теперь распределение цен на билеты и возрастов пассажиров на Титанике.\n",
    "\n",
    "Для этого тебе понадобится гистограмма:"
   ]
  },
  {
   "cell_type": "code",
   "execution_count": null,
   "metadata": {
    "collapsed": true
   },
   "outputs": [],
   "source": [
    "# гистограмма\n",
    "plt.hist([0, 1, 1, 1, 2, 2, 3, 3, 3, 3, 3, 4, 4, 5, 5, 5, 6, 7, 7, 8, 9, 10])\n",
    "plt.show()\n",
    "\n",
    "plt.hist([0, 1, 1, 1, 2, 2, 3, 3, 3, 3, 3, 4, 4, 5, 5, 5, 6, 7, 7, 8, 9, 10], bins=5)"
   ]
  },
  {
   "cell_type": "markdown",
   "metadata": {},
   "source": [
    "Построй гистограмму возрастов пассажиров и цен на билеты (*в качестве бонуса: узнай, как строить 2D-гистограму возрастов И цен*):"
   ]
  },
  {
   "cell_type": "code",
   "execution_count": null,
   "metadata": {
    "collapsed": true
   },
   "outputs": [],
   "source": [
    "#<твой код>"
   ]
  },
  {
   "cell_type": "markdown",
   "metadata": {},
   "source": [
    "Построй следующий график из точек:\n",
    "как цена билета зависит от возраста, причём мужчины (male) и женщины (female) выделяются разными цветами."
   ]
  },
  {
   "cell_type": "code",
   "execution_count": null,
   "metadata": {
    "collapsed": true
   },
   "outputs": [],
   "source": [
    "# построй график из точек x=возраст, y=цена билета\n",
    "# цвет - пол\n",
    "\n",
    "#<твой код>"
   ]
  },
  {
   "cell_type": "markdown",
   "metadata": {},
   "source": [
    "## Битва с финальным боссом\n",
    "\n",
    "При помощи интуиции, графиков и вычислений попробуй выделить по признакам группу людей,\n",
    "в которой почти все выжили. \n",
    "\n",
    "Признаки - это выражения вида:\n",
    "* [колонка] равно [значение] (пол = женский)\n",
    "* [математическое выражение] >, <, >= или <=  [значение]  (возраст старше 18 лет) (количество родственников минус родителей больше 1)\n",
    "* [колонка с именем] - [утверждение про имя]  (имя содержит \"Mr.\" и длинее 5 букв)\n",
    "\n",
    "Признаки могут использоваться через И и ИЛИ.\n",
    "\n",
    "(и только их. НЕ, импликация, XOR, эквивалентность, штрих Шифера и стрелка Пирса идут лесом)\n",
    "\n",
    "Например, все [старше 30 лет] И [из порта C] И ([родственников 0] ИЛИ [первый класс]) - это 4 признака\n",
    "\n",
    "При этом:\n",
    "* Чем больше выживших людей(количество, а не доля), тем лучше;\n",
    "* В группе обязательно должны выжить более 80% людей;\n",
    "* Желательно использовать не более 5 признаков;\n",
    " * Если нашёл более 1 такой группы - перечисли несколько;\n",
    "* Гипотеза должна подтверждаться запускабельным кодом, \n",
    " * который считает число людей и шанс выжить;\n",
    " * высший пилотаж - заправить это красивыми граффиками по теме;\n",
    "\n",
    "Напутствие: возможно, будет полезно сначала изучить данные, посмотреть на графики и обусдить идеи, а потом бросаться лихорадочно пробовать всё подряд."
   ]
  },
  {
   "cell_type": "code",
   "execution_count": null,
   "metadata": {
    "collapsed": true
   },
   "outputs": [],
   "source": [
    "# предварительные вычисления графики\n"
   ]
  },
  {
   "cell_type": "code",
   "execution_count": null,
   "metadata": {
    "collapsed": true
   },
   "outputs": [],
   "source": [
    "# пример\n",
    "# [старше 30 лет] И [из порта C] И ([родственников 0] ИЛИ [первый класс])\n",
    "\n",
    "data_with_age = data[~numpy.isnan(data.Age)]\n",
    "# старше 30 И из порта С\n",
    "age_and_port = numpy.logical_and(data_with_age.Age > 30, data_with_age.Embarked == \"C\")\n",
    "\n",
    "# родственников на борту 0 ИЛИ в первом классе\n",
    "sibsp_or_class = numpy.logical_or(data_with_age.SibSp == 0, data_with_age.Pclass == 1)\n",
    "\n",
    "# всё вместе\n",
    "group_indexer = numpy.logical_and(age_and_port, sibsp_or_class)"
   ]
  },
  {
   "cell_type": "code",
   "execution_count": null,
   "metadata": {
    "collapsed": true
   },
   "outputs": [],
   "source": [
    "# итоговая группа\n",
    "## замените этот код на свою группу\n",
    "group = data_with_age[group_indexer]"
   ]
  },
  {
   "cell_type": "code",
   "execution_count": null,
   "metadata": {
    "collapsed": true
   },
   "outputs": [],
   "source": [
    "print(\"Количество человек:\", len(group))\n",
    "print(\"Количество выживших:\", len(group[group.Survived == True]))\n",
    "p_survived = numpy.average(group.Survived)\n",
    "print(\"Вероятность выжить:\", p_survived)\n",
    "print(\"Достаточно выживших:\", p_survived > 0.8)"
   ]
  },
  {
   "cell_type": "markdown",
   "metadata": {},
   "source": [
    "### Для самых бодрых\n",
    "Если ещё не устал, аналогично выдели группы людей, где все погибли."
   ]
  },
  {
   "cell_type": "code",
   "execution_count": null,
   "metadata": {
    "collapsed": true
   },
   "outputs": [],
   "source": []
  },
  {
   "cell_type": "markdown",
   "metadata": {},
   "source": [
    "[руководства по библиотекам]\n",
    "\n",
    "  * [NumPy](http://www.numpy.org/)\n",
    "    - [руководство для пользователей Matlab](http://wiki.scipy.org/NumPy_for_Matlab_Users)\n",
    "  * [Pandas](http://pandas.pydata.org/)\n",
    "    - [пример работы с данными при помощи pandas](http://nbviewer.ipython.org/github/agconti/kaggle-titanic/blob/master/Titanic.ipynb)\n",
    "  * [Matplotlib](http://matplotlib.org/index.html)\n",
    "    - [pyplot](http://matplotlib.org/api/pyplot_api.html) — эмуляция функционала графопостроений в Matlab\n",
    "    - [галерея примеров](http://matplotlib.org/gallery.html)\n",
    "  * [SciPy](http://scipy.org/)"
   ]
  },
  {
   "cell_type": "code",
   "execution_count": null,
   "metadata": {
    "collapsed": true
   },
   "outputs": [],
   "source": []
  }
 ],
 "metadata": {
  "anaconda-cloud": {},
  "kernelspec": {
   "display_name": "Python 3",
   "language": "python",
   "name": "python3"
  },
  "language_info": {
   "codemirror_mode": {
    "name": "ipython",
    "version": 3
   },
   "file_extension": ".py",
   "mimetype": "text/x-python",
   "name": "python",
   "nbconvert_exporter": "python",
   "pygments_lexer": "ipython3",
   "version": "3.6.1"
  }
 },
 "nbformat": 4,
 "nbformat_minor": 1
}
